{
 "cells": [
  {
   "cell_type": "markdown",
   "source": [
    "# 3η Υποχρεωτική Εργασία\n",
    "## Περιγραφή:\n",
    "#### Να γραφεί πρόγραμμα σε οποιαδήποτε γλώσσα προγραμματισμού το οποίο να υλοποιεί ένα Radial Basis Function Neural Network (RBFNN) που θα εκπαιδευτεί για να επιλύει ένα από τα προβλήματα που επιλύσατε στις προηγούμενες εργασίες σας ή αντίστοιχο πρόβλημα προσέγγισης συνάρτησης ή ανακατασκευή δεδομένων.\n",
    "#### Το θέμα που επιλέχθηκε είναι: MNIST Digit Classification\n",
    "<a href=\"https://towardsdatascience.com/most-effective-way-to-implement-radial-basis-function-neural-network-for-classification-problem-33c467803319\">Πηγή Αναφοράς</a>"
   ],
   "metadata": {
    "collapsed": false
   }
  },
  {
   "cell_type": "markdown",
   "source": [
    "### Imports\n",
    "Σε αυτό το cell έχουμε όλα τα imports που θα χρειαστούμε στο notebook."
   ],
   "metadata": {
    "collapsed": false
   }
  },
  {
   "cell_type": "code",
   "execution_count": 112,
   "outputs": [],
   "source": [
    "import numpy as np\n",
    "import matplotlib.pyplot as plt\n",
    "import seaborn as sns\n",
    "import tensorflow as tf\n",
    "from keras.datasets import mnist\n",
    "from keras.utils import np_utils\n",
    "from sklearn.neighbors import KNeighborsClassifier\n",
    "from sklearn.neighbors import NearestCentroid\n",
    "from sklearn.cluster import KMeans\n",
    "from sklearn.neural_network import MLPClassifier\n",
    "from sklearn.metrics import accuracy_score\n",
    "from sklearn.metrics import confusion_matrix\n",
    "import time\n",
    "\n",
    "#in order to reproduce the same results every time\n",
    "tf.random.set_seed(7)\n",
    "RANDOM_STATE = 42"
   ],
   "metadata": {
    "collapsed": false
   }
  },
  {
   "cell_type": "markdown",
   "source": [
    "<h3>Φορτώνουμε το σύνολο δεδομένων μέσα από το Keras.</h3>\n",
    "<p>Το Training set αποτελείται 60k εικόνες και το Test set αποτελείται από 10k εικόνες.</p>\n",
    "<p>Κάθε εικόνα έχει διστάσεις 28x28 pixels σε Grayscale (δηλαδή έχουμε 1 channel, σε αντίθεση με το rgb που έχει 3 channels) και το label κάθε εικόνας είναι ο αριθμός που αυτή αναπαριστά (δηλαδή το label είναι ένας ακέραιος από το 0 έως το 9).</p>\n",
    "<p>Κάθε pixel παίρνει τιμή από 0 έως 255, 0 για τα άσπρα pixels και 255 για τα μαύρα pixels</p>"
   ],
   "metadata": {
    "collapsed": false
   }
  },
  {
   "cell_type": "code",
   "execution_count": 2,
   "outputs": [
    {
     "name": "stdout",
     "output_type": "stream",
     "text": [
      "X_train: (60000, 28, 28)\n",
      "Y_train: (60000,)\n",
      "X_test:  (10000, 28, 28)\n",
      "Y_test:  (10000,)\n",
      "Labels: [0 1 2 3 4 5 6 7 8 9]\n"
     ]
    }
   ],
   "source": [
    "(X_train, Y_train), (X_test, Y_test) = mnist.load_data()\n",
    "print('X_train: ' + str(X_train.shape))\n",
    "print('Y_train: ' + str(Y_train.shape))\n",
    "print('X_test:  '  + str(X_test.shape))\n",
    "print('Y_test:  '  + str(Y_test.shape))\n",
    "print(\"Labels: \" + str(np.unique(Y_train))) #μοναδικές τιμές του Y_train (προφανώς έχουμε τις ίδιες μοναδικές τιμές και στο Y_test)"
   ],
   "metadata": {
    "collapsed": false
   }
  },
  {
   "cell_type": "markdown",
   "source": [
    "### Προετοιμασία των Data για να τα δώσουμε στη συνέχεια στα μοντέλα.\n",
    "\n",
    "#### Κάθε training example είναι στη μορφή ενός δισδιάστατου πίνακα διαστάσεων 28x28. Επειδή δεν μπορούμε να τροφοδοτήσουμε τα δεδομένα στα μοντέλα μας με αυτήν τη δισδιάστατη μορφή, μετασχηματίζουμε κάθε training example ώστε να έχει τη μορφή ενός διανύσματος(one dimension array)."
   ],
   "metadata": {
    "collapsed": false
   }
  },
  {
   "cell_type": "code",
   "execution_count": 3,
   "outputs": [
    {
     "name": "stdout",
     "output_type": "stream",
     "text": [
      "X_train: (60000, 784)\n",
      "X_test: (10000, 784)\n"
     ]
    }
   ],
   "source": [
    "# Flattening\n",
    "X_train = X_train.reshape((-1,28*28))\n",
    "X_test = X_test.reshape((-1, 28*28))\n",
    "print('X_train: ' + str(X_train.shape))\n",
    "print('X_test: ' + str(X_test.shape))"
   ],
   "metadata": {
    "collapsed": false
   }
  },
  {
   "cell_type": "markdown",
   "source": [
    "#### Κανονικοποίηση των Δεδομένων (Data Scaling)\n",
    "- Σε όλα τα πειράματα μας θα χρησιμοποιήσουμε τα κανονικοποιημένα δεδομένα μιας και δουλεύουμε με έναν τύπο μηχανής (RBF NN) που είναι distance-based."
   ],
   "metadata": {
    "collapsed": false
   }
  },
  {
   "cell_type": "code",
   "execution_count": 4,
   "outputs": [],
   "source": [
    "# Normalization\n",
    "X_train_Normalization = X_train / 255.0\n",
    "X_test_Normalization= X_test / 255.0\n",
    "num_of_training_samples = 10000"
   ],
   "metadata": {
    "collapsed": false
   }
  },
  {
   "cell_type": "markdown",
   "source": [
    "#### One hot encoding (OHE) των targets"
   ],
   "metadata": {
    "collapsed": false
   }
  },
  {
   "cell_type": "code",
   "execution_count": 5,
   "outputs": [],
   "source": [
    "Y_train_OHE = np_utils.to_categorical(Y_train, 10)\n",
    "Y_test_OHE = np_utils.to_categorical(Y_test, 10)"
   ],
   "metadata": {
    "collapsed": false
   }
  },
  {
   "cell_type": "markdown",
   "source": [
    "# Περιεχόμενα του notebook\n",
    "## 1. Διαφορετικά πλάτη στη συνάρτηση Gauss\n",
    "## 2. Διαφορετικές αρχικοποιήσεις στα κέντρα των Gaussian RBF νευρώνων του κρυφού στρώματος\n",
    "## 3. Extreme Learning Machine (ELM)\n",
    "## 4. Σύγκριση RBF με KNN, Nearest Class Centroid και MLP\n",
    "## 5. Χαρακτηριστικά παραδείγματα ορθής και εσφαλμένης κατηγοριοποίησης"
   ],
   "metadata": {
    "collapsed": false
   }
  },
  {
   "cell_type": "markdown",
   "source": [
    "# 1. Διαφορετικά πλάτη στη συνάρτηση Gauss\n",
    "- Υπάρχουν δύο προσεγγίσεις για τον προσδιορισμό των πλατών (standard deviations) των συναρτήσεων ακτινικής βάσης σε ένα νευρωνικό δίκτυο RBF.\n",
    "    1. Η πρώτη προσέγγιση είναι να οριστεί η τυπική απόκλιση κάθε συνάρτησης ακτινικής βάσης ως η τυπική απόκλιση των σημείων που έχουν αντιστοιχιστεί στο αντίστοιχο cluster. Με άλλα λόγια, το πλάτος της συνάρτησης ακτινικής βάσης καθορίζεται με βάση το spread των δεδομένων γύρω από το κεντρικό σημείο του cluster. Σε αυτήν την περίπτωση, κάθε RBF νευρώνας έχει το δικό του πλάτος.\n",
    "    2. Η δεύτερη προσέγγιση είναι να χρησιμοποιήσουμε ίδια πλάτη (standard deviation) για όλους τους RBF νευρώνες. Σε αυτήν την περίπτωση, το standard deviation υπολογίζεται με βάση την maximum απόσταση ανάμεσα σε οποιαδήποτε δύο cluster centers και στο πλήθος των cluster centers (βλ. τον ακριβή τύπο επάνω)."
   ],
   "metadata": {
    "collapsed": false
   }
  },
  {
   "cell_type": "markdown",
   "source": [
    "### Η παρακάτω κλάση υλοποιεί ένα RBF δίκτυο το όποιο έχει αυτο-οργανωμένο κρυφό επίπεδο (με χρήση k-means clustering), δίνει δύο επιλογές για τα πλάτη των RBF νευρώνων και εκπαιδεύεται με την τεχνική \"least squares\" και με χρήση του \"Penrose inverse\" που ορίζεται ως εξής:  `A^+ = (A^T * A)^(-1) * A^T)`\n",
    "\n",
    "Χρησιμοποιείται Gaussian RBF, όπως ορίζεται παρακάτω:"
   ],
   "metadata": {
    "collapsed": false
   }
  },
  {
   "cell_type": "markdown",
   "source": [
    "<img alt=\"\" class=\"bf hu hv c\" width=\"145\" height=\"56\" loading=\"lazy\" role=\"presentation\" src=\"https://miro.medium.com/max/145/1*MIay3aIlpT18yewOfnvTiQ.png\">"
   ],
   "metadata": {
    "collapsed": false
   }
  },
  {
   "cell_type": "markdown",
   "source": [
    "Για την υπέρ-παράμετρο β, δίνονται δύο επιλογές:"
   ],
   "metadata": {
    "collapsed": false
   }
  },
  {
   "cell_type": "markdown",
   "source": [
    "1. Με χρήση του standard deviation του κάθε cluster (std_from_clusters=True):\n",
    "<img alt=\"\" class=\"bf hu hv c\" width=\"290\" height=\"93\" loading=\"lazy\" role=\"presentation\" src=\"https://miro.medium.com/max/290/1*7CVXm8FYPF8CFudZBs_gJg.png\">"
   ],
   "metadata": {
    "collapsed": false
   }
  },
  {
   "cell_type": "markdown",
   "source": [
    "2. με χρήση του παρακάτω τύπου (std_from_clusters=False):\n",
    "<img alt=\"\" class=\"bf hu hv c\" width=\"304\" height=\"102\" loading=\"lazy\" role=\"presentation\" src=\"https://miro.medium.com/max/304/1*YEcI_P6orY917fQrzHQEjQ.png\">"
   ],
   "metadata": {
    "collapsed": false
   }
  },
  {
   "cell_type": "code",
   "execution_count": 7,
   "outputs": [],
   "source": [
    "class RBFNN1:\n",
    "    def __init__(self, X, y, k, std_from_clusters=True):\n",
    "        self.std_list = None\n",
    "        self.centroids = None\n",
    "        self.w = None\n",
    "        self.X = X\n",
    "        self.y = y\n",
    "        self.k = k\n",
    "        self.std_from_clusters = std_from_clusters\n",
    "\n",
    "    '''K means clustering for computing centroids and also calculates std of each RBF function'''\n",
    "    def kmeans_clustering(self, X, k, std_from_clusters):\n",
    "        kmeans = KMeans(n_clusters=k, random_state=RANDOM_STATE)\n",
    "\n",
    "        # Fit the model to the data\n",
    "        kmeans.fit(X)\n",
    "\n",
    "        # Get the cluster centers\n",
    "        centroids = kmeans.cluster_centers_\n",
    "\n",
    "        if std_from_clusters: # Get the standard deviations of the clusters\n",
    "            std_list = [np.std(X[kmeans.labels_ == i]) for i in range(k)]\n",
    "        else:\n",
    "            dMax = np.max([np.linalg.norm(c1 - c2) for c1 in centroids for c2 in centroids])\n",
    "            std_list = np.repeat(dMax / np.sqrt(2 * k), k)\n",
    "\n",
    "        return centroids,std_list\n",
    "\n",
    "    '''Calculates the Euclidean distance between the data point x and the center point c, and then uses this distance to calculate the output of the Gaussian radial basis function. The standard deviation s determines the width of the Gaussian.'''\n",
    "    def gaussian_rbf(self, x, c, s):\n",
    "        distance = np.linalg.norm(x - c)\n",
    "        return np.exp(-distance**2 / (2 * s**2))\n",
    "\n",
    "    '''Calculates the output of each radial basis function using the gaussian_rbf function'''\n",
    "    def rbf_list(self, X, centroids, std_list):\n",
    "        rbf_list = []\n",
    "        for x in X:\n",
    "            rbf_list.append([self.gaussian_rbf(x, c, s) for (c, s) in zip(centroids, std_list)])\n",
    "        return np.array(rbf_list)\n",
    "\n",
    "    '''Converts the labels to one hot encoding vectors'''\n",
    "    def convert_to_one_hot(self, x, num_of_classes):\n",
    "        arr = np.zeros((len(x), num_of_classes))\n",
    "        for i in range(len(x)):\n",
    "            c = int(x[i])\n",
    "            arr[i][c] = 1\n",
    "        return arr\n",
    "\n",
    "    def fit(self):\n",
    "        # Calculate the cluster centers and standard deviations using k-means\n",
    "        self.centroids, self.std_list = self.kmeans_clustering(self.X, self.k, self.std_from_clusters)\n",
    "\n",
    "        # num of different classes\n",
    "        num_of_classes = len(np.unique(self.y))\n",
    "\n",
    "        # Calculate the outputs of the radial basis functions\n",
    "        RBF_X = self.rbf_list(self.X, self.centroids, self.std_list)\n",
    "\n",
    "        # Calculate the weights of the output layer using \"least squares\"\n",
    "        self.w = np.linalg.pinv(RBF_X.T @ RBF_X) @ RBF_X.T @ self.convert_to_one_hot(self.y, num_of_classes)\n",
    "\n",
    "    def predict(self,X_test):\n",
    "        # Calculate the outputs of the radial basis functions\n",
    "        RBF_X = self.rbf_list(X_test, self.centroids, self.std_list)\n",
    "\n",
    "        # Calculate the output of the network\n",
    "        predictions = RBF_X @ self.w\n",
    "\n",
    "        # return the predictions of the network (in form of labels and not as One Hot vectors)\n",
    "        return np.array([np.argmax(x) for x in predictions])\n"
   ],
   "metadata": {
    "collapsed": false
   }
  },
  {
   "cell_type": "markdown",
   "source": [
    "## Εκπαίδευση με την πρώτη προσέγγιση:"
   ],
   "metadata": {
    "collapsed": false
   }
  },
  {
   "cell_type": "code",
   "execution_count": 155,
   "outputs": [],
   "source": [
    "# Create an instance of the RBFNN class\n",
    "rbf_std_from_clusters = RBFNN1(X_train_Normalization, Y_train, k=100, std_from_clusters=True)\n",
    "\n",
    "# Fit the model to the training data\n",
    "start_time = time.time()\n",
    "rbf_std_from_clusters.fit()\n",
    "end_time = time.time()\n",
    "total_time_fit = end_time - start_time\n",
    "\n",
    "# Make predictions on the test data\n",
    "start_time = time.time()\n",
    "rbf_std_from_clusters_predictions = rbf_std_from_clusters.predict(X_test_Normalization)\n",
    "end_time = time.time()\n",
    "total_time_predict = end_time - start_time"
   ],
   "metadata": {
    "collapsed": false
   }
  },
  {
   "cell_type": "code",
   "execution_count": 162,
   "outputs": [
    {
     "name": "stdout",
     "output_type": "stream",
     "text": [
      "Χρόνος εκπαίδευσης: 176.62787246704102 seconds.\n",
      "Χρόνος για predictions: 7.034318447113037 seconds.\n",
      "Accuracy on Train:  0.21801666666666666\n",
      "Accuracy on Test:  0.2196\n"
     ]
    }
   ],
   "source": [
    "print(f\"Χρόνος εκπαίδευσης: {total_time_fit} seconds.\")\n",
    "print(f\"Χρόνος για predictions: {total_time_predict} seconds.\")\n",
    "print('Accuracy on Train: ', accuracy_score(Y_train, rbf_std_from_clusters.predict(X_train_Normalization)))\n",
    "print('Accuracy on Test: ', accuracy_score(Y_test, rbf_std_from_clusters_predictions))"
   ],
   "metadata": {
    "collapsed": false
   }
  },
  {
   "cell_type": "markdown",
   "source": [
    "## Εκπαίδευση με την δεύτερη προσέγγιση:"
   ],
   "metadata": {
    "collapsed": false
   }
  },
  {
   "cell_type": "code",
   "execution_count": 159,
   "outputs": [],
   "source": [
    "# Create an instance of the RBFNN class\n",
    "rbf_same_std = RBFNN1(X_train_Normalization, Y_train, k=100, std_from_clusters=False)\n",
    "\n",
    "# Fit the model to the training data\n",
    "start_time = time.time()\n",
    "rbf_same_std.fit()\n",
    "end_time = time.time()\n",
    "total_time_fit = end_time - start_time\n",
    "\n",
    "# Make predictions on the test data\n",
    "start_time = time.time()\n",
    "rbf_same_std_predictions = rbf_same_std.predict(X_test_Normalization)\n",
    "end_time = time.time()\n",
    "total_time_predict = end_time - start_time"
   ],
   "metadata": {
    "collapsed": false
   }
  },
  {
   "cell_type": "code",
   "execution_count": 163,
   "outputs": [
    {
     "name": "stdout",
     "output_type": "stream",
     "text": [
      "Χρόνος εκπαίδευσης: 176.62787246704102 seconds.\n",
      "Χρόνος για predictions: 7.034318447113037 seconds.\n",
      "Accuracy on Train:  0.8501833333333333\n",
      "Accuracy on Test:  0.8552\n"
     ]
    }
   ],
   "source": [
    "print(f\"Χρόνος εκπαίδευσης: {total_time_fit} seconds.\")\n",
    "print(f\"Χρόνος για predictions: {total_time_predict} seconds.\")\n",
    "print('Accuracy on Train: ', accuracy_score(Y_train, rbf_same_std.predict(X_train_Normalization)))\n",
    "print('Accuracy on Test: ', accuracy_score(Y_test, rbf_same_std_predictions))"
   ],
   "metadata": {
    "collapsed": false
   }
  },
  {
   "cell_type": "markdown",
   "source": [
    "### Παρατηρήσεις:\n",
    "- Παρατηρούμε ότι η πρώτη προσέγγιση αδυνατεί να μάθει το task πετυχαίνοντας πάρα πολύ low accuracy. Αντίθετα, με τη δεύτερη προσέγγιση παρατηρούμε ότι το μοντέλο μαθαίνει το task πετυχαίνοντας ένα ικανοποιητικό accuracy.\n",
    "- Αυτό μπορεί να οφείλεται στα παρακάτω:\n",
    "    1. If the points within a cluster are widely dispersed, the standard deviation of the cluster will be large, which could cause the radial basis function to be too wide and not accurately capture the structure of the data.\n",
    "    2. The number of clusters (k) could be too small or too large. If k is too small, the model may not be able to capture the complexity of the data and will have low accuracy.\n",
    "    3. The choice of distance metric could also impact the model's accuracy. The Euclidean distance metric used in the implementation may not be the best choice for the given dataset.\n",
    "\n",
    "Ας ελέγξουμε μήπως το πλήθος των clusters ήταν το πρόβλημα της πρώτης προσέγγισης, αυξάνοντας το k από 100 σε 1000."
   ],
   "metadata": {
    "collapsed": false
   }
  },
  {
   "cell_type": "code",
   "execution_count": 164,
   "outputs": [],
   "source": [
    "# Create an instance of the RBFNN class\n",
    "rbf_std_from_clusters = RBFNN1(X_train_Normalization, Y_train, k=1000, std_from_clusters=True)\n",
    "\n",
    "# Fit the model to the training data\n",
    "start_time = time.time()\n",
    "rbf_std_from_clusters.fit()\n",
    "end_time = time.time()\n",
    "total_time_fit = end_time - start_time\n",
    "\n",
    "# Make predictions on the test data\n",
    "start_time = time.time()\n",
    "rbf_std_from_clusters_predictions = rbf_std_from_clusters.predict(X_test_Normalization)\n",
    "end_time = time.time()\n",
    "total_time_predict = end_time - start_time"
   ],
   "metadata": {
    "collapsed": false
   }
  },
  {
   "cell_type": "code",
   "execution_count": 165,
   "outputs": [
    {
     "name": "stdout",
     "output_type": "stream",
     "text": [
      "Χρόνος εκπαίδευσης: 1296.758367061615 seconds.\n",
      "Χρόνος για predictions: 70.11491441726685 seconds.\n",
      "Accuracy on Train:  0.23566666666666666\n",
      "Accuracy on Test:  0.2366\n"
     ]
    }
   ],
   "source": [
    "print(f\"Χρόνος εκπαίδευσης: {total_time_fit} seconds.\")\n",
    "print(f\"Χρόνος για predictions: {total_time_predict} seconds.\")\n",
    "print('Accuracy on Train: ', accuracy_score(Y_train, rbf_std_from_clusters.predict(X_train_Normalization)))\n",
    "print('Accuracy on Test: ', accuracy_score(Y_test, rbf_std_from_clusters_predictions))"
   ],
   "metadata": {
    "collapsed": false
   }
  },
  {
   "cell_type": "markdown",
   "source": [
    "- Παρατηρούμε ότι έχουμε πολύ μικρή βελτίωση, παρόλο που αυξήσαμε το πλήθος των clusters από 100 σε 1000."
   ],
   "metadata": {
    "collapsed": false
   }
  },
  {
   "cell_type": "markdown",
   "source": [
    "# 2. Διαφορετικές αρχικοποιήσεις στα κέντρα των Gaussian RBF νευρώνων του κρυφού στρώματος\n",
    "- θα εξετάσουμε 2 περιπτώσεις:\n",
    "    1. 100 κρυφοί νευρώνες\n",
    "    2. 10 κρυφοί νευρώνες\n",
    "- Σε κάθε μία από αυτές τις περιπτώσεις θα αρχικοποιήσουμε τα κέντρα με (i) τυχαία δείγματα του Data Set, με (ii) τυχαία δείγματα από κάθε κλάση, με (iii) αυτό-οργάνωση (clustering).\n",
    "- Σε κάθε ένα από τα παρακάτω πειράματα έχουμε χρησιμοποιήσει ίσα πλάτη(όπως αυτά προκύπτουν από την εξίσωση που βλέπουμε παρακάτω):\n",
    "<img alt=\"\" class=\"bf hu hv c\" width=\"304\" height=\"102\" loading=\"lazy\" role=\"presentation\" src=\"https://miro.medium.com/max/304/1*YEcI_P6orY917fQrzHQEjQ.png\">"
   ],
   "metadata": {
    "collapsed": false
   }
  },
  {
   "cell_type": "markdown",
   "source": [
    "## 1η περίπτωση, με 100 κρυφούς νευρώνες."
   ],
   "metadata": {
    "collapsed": false
   }
  },
  {
   "cell_type": "markdown",
   "source": [
    "### (i) τυχαία δείγματα του Data Set"
   ],
   "metadata": {
    "collapsed": false
   }
  },
  {
   "cell_type": "markdown",
   "source": [
    "#### Η κλάση αυτή είναι τροποποίηση της RBFNN1 (προηγούμενης κλάσης) για να εξυπηρετεί το τρέχον πείραμα."
   ],
   "metadata": {
    "collapsed": false
   }
  },
  {
   "cell_type": "code",
   "execution_count": 8,
   "outputs": [],
   "source": [
    "class RBFNN2:\n",
    "    def __init__(self, X, y, k):\n",
    "        self.std_list = None\n",
    "        self.centroids = None\n",
    "        self.w = None\n",
    "        self.X = X\n",
    "        self.y = y\n",
    "        self.k = k\n",
    "\n",
    "    '''k randoms vectors from Data Set used for centroids and also calculates std of each RBF function'''\n",
    "    def calculate_centroids_std(self, X, k):\n",
    "        # Get the RBF centers\n",
    "        centroids = X[np.random.choice(X.shape[0], k, replace=False), :]\n",
    "\n",
    "        dMax = np.max([np.linalg.norm(c1 - c2) for c1 in centroids for c2 in centroids])\n",
    "        std_list = np.repeat(dMax / np.sqrt(2 * k), k)\n",
    "\n",
    "        return centroids,std_list\n",
    "\n",
    "    '''Calculates the Euclidean distance between the data point x and the center point c, and then uses this distance to calculate the output of the Gaussian radial basis function. The standard deviation s determines the width of the Gaussian.'''\n",
    "    def gaussian_rbf(self, x, c, s):\n",
    "        distance = np.linalg.norm(x - c)\n",
    "        return np.exp(-distance**2 / (2 * s**2))\n",
    "\n",
    "    '''Calculates the output of each radial basis function using the gaussian_rbf function'''\n",
    "    def rbf_list(self, X, centroids, std_list):\n",
    "        rbf_list = []\n",
    "        for x in X:\n",
    "            rbf_list.append([self.gaussian_rbf(x, c, s) for (c, s) in zip(centroids, std_list)])\n",
    "        return np.array(rbf_list)\n",
    "\n",
    "    '''Converts the labels to one hot encoding vectors'''\n",
    "    def convert_to_one_hot(self, x, num_of_classes):\n",
    "        arr = np.zeros((len(x), num_of_classes))\n",
    "        for i in range(len(x)):\n",
    "            c = int(x[i])\n",
    "            arr[i][c] = 1\n",
    "        return arr\n",
    "\n",
    "    def fit(self):\n",
    "        # Calculate the cluster centers and standard deviations\n",
    "        self.centroids, self.std_list = self.calculate_centroids_std(self.X, self.k)\n",
    "\n",
    "        # num of different classes\n",
    "        num_of_classes = len(np.unique(self.y))\n",
    "\n",
    "        # Calculate the outputs of the radial basis functions\n",
    "        RBF_X = self.rbf_list(self.X, self.centroids, self.std_list)\n",
    "\n",
    "        # Calculate the weights of the output layer using \"least squares\"\n",
    "        self.w = np.linalg.pinv(RBF_X.T @ RBF_X) @ RBF_X.T @ self.convert_to_one_hot(self.y, num_of_classes)\n",
    "\n",
    "    def predict(self,X_test):\n",
    "        # Calculate the outputs of the radial basis functions\n",
    "        RBF_X = self.rbf_list(X_test, self.centroids, self.std_list)\n",
    "\n",
    "        # Calculate the output of the network\n",
    "        predictions = RBF_X @ self.w\n",
    "\n",
    "        # return the predictions of the network (in form of labels and not as One Hot vectors)\n",
    "        return np.array([np.argmax(x) for x in predictions])\n"
   ],
   "metadata": {
    "collapsed": false
   }
  },
  {
   "cell_type": "code",
   "execution_count": 9,
   "outputs": [],
   "source": [
    "# Τυχαία επιλογή δειγμάτων από το Data Set ως centroids\n",
    "rbf_random_centroids = RBFNN2(X_train_Normalization, Y_train, k=100)\n",
    "\n",
    "# Fit the model to the training data\n",
    "start_time = time.time()\n",
    "rbf_random_centroids.fit()\n",
    "end_time = time.time()\n",
    "total_time_fit = end_time - start_time\n",
    "\n",
    "# Make predictions on the test data\n",
    "start_time = time.time()\n",
    "rbf_random_centroids_predictions = rbf_random_centroids.predict(X_test_Normalization)\n",
    "end_time = time.time()\n",
    "total_time_predict = end_time - start_time"
   ],
   "metadata": {
    "collapsed": false
   }
  },
  {
   "cell_type": "code",
   "execution_count": 10,
   "outputs": [
    {
     "name": "stdout",
     "output_type": "stream",
     "text": [
      "Χρόνος εκπαίδευσης: 42.458271741867065 seconds.\n",
      "Χρόνος για predictions: 6.826105356216431 seconds.\n",
      "Accuracy on Train:  0.70565\n",
      "Accuracy on Test:  0.7099\n"
     ]
    }
   ],
   "source": [
    "print(f\"Χρόνος εκπαίδευσης: {total_time_fit} seconds.\")\n",
    "print(f\"Χρόνος για predictions: {total_time_predict} seconds.\")\n",
    "print('Accuracy on Train: ', accuracy_score(Y_train, rbf_random_centroids.predict(X_train_Normalization)))\n",
    "print('Accuracy on Test: ', accuracy_score(Y_test, rbf_random_centroids_predictions))"
   ],
   "metadata": {
    "collapsed": false
   }
  },
  {
   "cell_type": "code",
   "execution_count": 11,
   "outputs": [
    {
     "data": {
      "text/plain": "Text(0.5, 1.0, 'Πλήθος παραδειγμάτων ανά κλάση')"
     },
     "execution_count": 11,
     "metadata": {},
     "output_type": "execute_result"
    },
    {
     "data": {
      "text/plain": "<Figure size 640x480 with 1 Axes>",
      "image/png": "[encoded data removed]"
     },
     "metadata": {},
     "output_type": "display_data"
    }
   ],
   "source": [
    "indices = np.where((X_train_Normalization == rbf_random_centroids.centroids[:, None]).all(-1))[1]\n",
    "sns.countplot(x = Y_train[indices], palette = \"viridis\")\n",
    "plt.title(\"Πλήθος παραδειγμάτων ανά κλάση\")"
   ],
   "metadata": {
    "collapsed": false
   }
  },
  {
   "cell_type": "code",
   "execution_count": 14,
   "outputs": [
    {
     "data": {
      "text/plain": "Text(0.5, 1.0, 'Confusion Matrix')"
     },
     "execution_count": 14,
     "metadata": {},
     "output_type": "execute_result"
    },
    {
     "data": {
      "text/plain": "<Figure size 2000x900 with 2 Axes>",
      "image/png": "[encoded data removed]"
     },
     "metadata": {},
     "output_type": "display_data"
    }
   ],
   "source": [
    "conf_matrix = confusion_matrix(Y_test, rbf_random_centroids_predictions)\n",
    "plt.figure(figsize=(20,9))\n",
    "sns.heatmap(conf_matrix, annot=True, fmt=\"d\", cmap=\"Blues\")\n",
    "plt.ylabel(\"True Labels\")\n",
    "plt.xlabel(\"Predicted Labels\")\n",
    "plt.title(\"Confusion Matrix\")"
   ],
   "metadata": {
    "collapsed": false
   }
  },
  {
   "cell_type": "markdown",
   "source": [
    "### (ii) τυχαία δείγματα από κάθε κλάση"
   ],
   "metadata": {
    "collapsed": false
   }
  },
  {
   "cell_type": "markdown",
   "source": [
    "#### Η κλάση αυτή είναι τροποποίηση της RBFNN1 για να εξυπηρετεί το τρέχον πείραμα."
   ],
   "metadata": {
    "collapsed": false
   }
  },
  {
   "cell_type": "code",
   "execution_count": 12,
   "outputs": [],
   "source": [
    "class RBFNN3:\n",
    "    def __init__(self, X, y, k):\n",
    "        self.std_list = None\n",
    "        self.centroids = None\n",
    "        self.w = None\n",
    "        self.X = X\n",
    "        self.y = y\n",
    "        self.k = k\n",
    "\n",
    "    '''k instances of each class used for centroids and also calculates std of each RBF function'''\n",
    "    def calculate_centroids_std(self, X, k):\n",
    "\n",
    "        \"\"\"W keep 10 training examples of each class\"\"\"\n",
    "        # Get the unique class values\n",
    "        unique_classes = np.unique(self.y)\n",
    "        num_of_classes = unique_classes.shape[0]\n",
    "\n",
    "        # Initialize a list to store the indices of the training examples for each class\n",
    "        indices = []\n",
    "        self.Y_subset = []\n",
    "\n",
    "        # Loop over the unique class values\n",
    "        for c in unique_classes:\n",
    "            # Find the indices of the training examples with class value c\n",
    "            idx = np.where(self.y == c)[0]\n",
    "            # Keep the first 10 indices\n",
    "            indices.append(idx[:k])\n",
    "            self.Y_subset.append(self.y[idx[:k]])\n",
    "\n",
    "        # Flatten the list of indices\n",
    "        indices = np.concatenate(indices)\n",
    "        self.Y_subset = np.concatenate(self.Y_subset)\n",
    "\n",
    "        # Select the training examples at the indices\n",
    "        centroids = X[indices]\n",
    "\n",
    "        dMax = np.max([np.linalg.norm(c1 - c2) for c1 in centroids for c2 in centroids])\n",
    "        std_list = np.repeat(dMax / np.sqrt(2 * num_of_classes * k), num_of_classes * k)\n",
    "\n",
    "        return centroids,std_list\n",
    "\n",
    "    '''Calculates the Euclidean distance between the data point x and the center point c, and then uses this distance to calculate the output of the Gaussian radial basis function. The standard deviation s determines the width of the Gaussian.'''\n",
    "    def gaussian_rbf(self, x, c, s):\n",
    "        distance = np.linalg.norm(x - c)\n",
    "        return np.exp(-distance**2 / (2 * s**2))\n",
    "\n",
    "    '''Calculates the output of each radial basis function using the gaussian_rbf function'''\n",
    "    def rbf_list(self, X, centroids, std_list):\n",
    "        rbf_list = []\n",
    "        for x in X:\n",
    "            rbf_list.append([self.gaussian_rbf(x, c, s) for (c, s) in zip(centroids, std_list)])\n",
    "        return np.array(rbf_list)\n",
    "\n",
    "    '''Converts the labels to one hot encoding vectors'''\n",
    "    def convert_to_one_hot(self, x, num_of_classes):\n",
    "        arr = np.zeros((len(x), num_of_classes))\n",
    "        for i in range(len(x)):\n",
    "            c = int(x[i])\n",
    "            arr[i][c] = 1\n",
    "        return arr\n",
    "\n",
    "    def fit(self):\n",
    "        # Calculate the cluster centers and standard deviations\n",
    "        self.centroids, self.std_list = self.calculate_centroids_std(self.X, self.k)\n",
    "\n",
    "        # num of different classes\n",
    "        num_of_classes = len(np.unique(self.y))\n",
    "\n",
    "        # Calculate the outputs of the radial basis functions\n",
    "        RBF_X = self.rbf_list(self.X, self.centroids, self.std_list)\n",
    "\n",
    "        # Calculate the weights of the output layer using \"least squares\"\n",
    "        self.w = np.linalg.pinv(RBF_X.T @ RBF_X) @ RBF_X.T @ self.convert_to_one_hot(self.y, num_of_classes)\n",
    "\n",
    "    def predict(self,X_test):\n",
    "        # Calculate the outputs of the radial basis functions\n",
    "        RBF_X = self.rbf_list(X_test, self.centroids, self.std_list)\n",
    "\n",
    "        # Calculate the output of the network\n",
    "        predictions = RBF_X @ self.w\n",
    "\n",
    "        # return the predictions of the network (in form of labels and not as One Hot vectors)\n",
    "        return np.array([np.argmax(x) for x in predictions])"
   ],
   "metadata": {
    "collapsed": false
   }
  },
  {
   "cell_type": "code",
   "execution_count": 260,
   "outputs": [],
   "source": [
    "# Επιλογή 10 training examples από κάθε κλάση ως centroids\n",
    "rbf_equally_chosen_instances = RBFNN3(X_train_Normalization, Y_train, k=10)\n",
    "\n",
    "# Fit the model to the training data\n",
    "start_time = time.time()\n",
    "rbf_equally_chosen_instances.fit()\n",
    "end_time = time.time()\n",
    "total_time_fit = end_time - start_time\n",
    "\n",
    "# Make predictions on the test data\n",
    "start_time = time.time()\n",
    "rbf_equally_chosen_instances_predictions = rbf_equally_chosen_instances.predict(X_test_Normalization)\n",
    "end_time = time.time()\n",
    "total_time_predict = end_time - start_time"
   ],
   "metadata": {
    "collapsed": false
   }
  },
  {
   "cell_type": "code",
   "execution_count": 261,
   "outputs": [
    {
     "name": "stdout",
     "output_type": "stream",
     "text": [
      "Χρόνος εκπαίδευσης: 48.95271944999695 seconds.\n",
      "Χρόνος για predictions: 8.02380633354187 seconds.\n",
      "Accuracy on Train:  0.6929\n",
      "Accuracy on Test:  0.6898\n"
     ]
    }
   ],
   "source": [
    "print(f\"Χρόνος εκπαίδευσης: {total_time_fit} seconds.\")\n",
    "print(f\"Χρόνος για predictions: {total_time_predict} seconds.\")\n",
    "print('Accuracy on Train: ', accuracy_score(Y_train, rbf_equally_chosen_instances.predict(X_train_Normalization)))\n",
    "print('Accuracy on Test: ', accuracy_score(Y_test, rbf_equally_chosen_instances_predictions))"
   ],
   "metadata": {
    "collapsed": false
   }
  },
  {
   "cell_type": "code",
   "execution_count": 262,
   "outputs": [
    {
     "data": {
      "text/plain": "Text(0.5, 1.0, 'Πλήθος παραδειγμάτων ανά κλάση')"
     },
     "execution_count": 262,
     "metadata": {},
     "output_type": "execute_result"
    },
    {
     "data": {
      "text/plain": "<Figure size 640x480 with 1 Axes>",
      "image/png": "[encoded data removed]"
     },
     "metadata": {},
     "output_type": "display_data"
    }
   ],
   "source": [
    "# Plot the counts of the labels in Y_train at the indices\n",
    "sns.countplot(x=rbf_equally_chosen_instances.Y_subset, palette=\"viridis\")\n",
    "plt.title(\"Πλήθος παραδειγμάτων ανά κλάση\")"
   ],
   "metadata": {
    "collapsed": false
   }
  },
  {
   "cell_type": "markdown",
   "source": [
    "### (iii) αυτό-οργάνωση (clustering)"
   ],
   "metadata": {
    "collapsed": false
   }
  },
  {
   "cell_type": "code",
   "execution_count": 15,
   "outputs": [],
   "source": [
    "# Αυτό-οργάνωση του κρυφού στρώματος με clustering\n",
    "rbf_clustering = RBFNN1(X_train_Normalization, Y_train, k=100, std_from_clusters=False)\n",
    "\n",
    "# Fit the model to the training data\n",
    "start_time = time.time()\n",
    "rbf_clustering.fit()\n",
    "end_time = time.time()\n",
    "total_time_fit = end_time - start_time\n",
    "\n",
    "# Make predictions on the test data\n",
    "start_time = time.time()\n",
    "rbf_clustering_predictions = rbf_clustering.predict(X_test_Normalization)\n",
    "end_time = time.time()\n",
    "total_time_predict = end_time - start_time"
   ],
   "metadata": {
    "collapsed": false
   }
  },
  {
   "cell_type": "code",
   "execution_count": 16,
   "outputs": [
    {
     "name": "stdout",
     "output_type": "stream",
     "text": [
      "Χρόνος εκπαίδευσης: 187.50640559196472 seconds.\n",
      "Χρόνος για predictions: 6.86669921875 seconds.\n",
      "Accuracy on Train:  0.8464666666666667\n",
      "Accuracy on Test:  0.8503\n"
     ]
    }
   ],
   "source": [
    "print(f\"Χρόνος εκπαίδευσης: {total_time_fit} seconds.\")\n",
    "print(f\"Χρόνος για predictions: {total_time_predict} seconds.\")\n",
    "print('Accuracy on Train: ', accuracy_score(Y_train, rbf_clustering.predict(X_train_Normalization)))\n",
    "print('Accuracy on Test: ', accuracy_score(Y_test, rbf_clustering_predictions))"
   ],
   "metadata": {
    "collapsed": false
   }
  },
  {
   "cell_type": "markdown",
   "source": [
    "### Παρατηρήσεις:\n",
    "- Η αυτό-οργάνωση του κρυφού επιπέδου με clustering πετυχαίνει πολύ καλύτερα αποτελέσματα σε σχέση με τις άλλες δύο περιπτώσεις με τον ίδιο αριθμό κρυφών νευρώνων στο RBF layer.\n",
    "- Ενδιαφέρον έχει το γεγονός, πως στην τυχαία επιλογή δειγμάτων πετυχαίνουμε λίγο καλύτερα αποτελέσματα σε σχέση με την επιλογή ίδιο πλήθους training examples από κάθε κλάση ως centroids. Σε αυτό σημαντικό ρόλο παίζει πως από την τυχαία αυτή επιλογή κανένα μιά κλάση δεν έμεινε εκτός, όπως φαίνεται και από το plot.\n",
    "- Παρατηρούμε ότι στην τυχαία επιλογή δειγμάτων ως centroids η κλάση η οποία εκπροσωπείται λιγότερο στο κρυφό στρώμα είναι τα \"2\", και από τον confusion matrix βλέπουμε πως πράγματι στην κλάση αυτή το μοντέλο δυσκολεύεται και κάνει αρκετά λάθη.\n",
    "- Αναφορικά με τους χρόνους εκπαίδευσης, παρατηρούμε ότι η αυτό-οργάνωση είναι αρκετά πιο αργή (λόγω του clustering) σε σχέση με τα άλλα 2.\n",
    "- Ο χρόνος πρόβλεψης όπως είναι και λογικό είναι ίδιος και στις τρεις περιπτώσεις."
   ],
   "metadata": {
    "collapsed": false
   }
  },
  {
   "cell_type": "markdown",
   "source": [
    "## 2η περίπτωση, με 10 κρυφούς νευρώνες."
   ],
   "metadata": {
    "collapsed": false
   }
  },
  {
   "cell_type": "markdown",
   "source": [
    "### (i) τυχαία δείγματα του Data Set"
   ],
   "metadata": {
    "collapsed": false
   }
  },
  {
   "cell_type": "code",
   "execution_count": 17,
   "outputs": [],
   "source": [
    "# Τυχαία επιλογή δειγμάτων από το Data Set ως centroids\n",
    "rbf_random_centroids = RBFNN2(X_train_Normalization, Y_train, k=10)\n",
    "\n",
    "# Fit the model to the training data\n",
    "start_time = time.time()\n",
    "rbf_random_centroids.fit()\n",
    "end_time = time.time()\n",
    "total_time_fit = end_time - start_time\n",
    "\n",
    "# Make predictions on the test data\n",
    "start_time = time.time()\n",
    "rbf_random_centroids_predictions = rbf_random_centroids.predict(X_test_Normalization)\n",
    "end_time = time.time()\n",
    "total_time_predict = end_time - start_time"
   ],
   "metadata": {
    "collapsed": false
   }
  },
  {
   "cell_type": "code",
   "execution_count": 20,
   "outputs": [
    {
     "name": "stdout",
     "output_type": "stream",
     "text": [
      "Χρόνος εκπαίδευσης: 4.480876445770264 seconds.\n",
      "Χρόνος για predictions: 0.9076089859008789 seconds.\n",
      "Accuracy on Train:  0.3736333333333333\n",
      "Accuracy on Test:  0.3784\n"
     ]
    }
   ],
   "source": [
    "print(f\"Χρόνος εκπαίδευσης: {total_time_fit} seconds.\")\n",
    "print(f\"Χρόνος για predictions: {total_time_predict} seconds.\")\n",
    "print('Accuracy on Train: ', accuracy_score(Y_train, rbf_random_centroids.predict(X_train_Normalization)))\n",
    "print('Accuracy on Test: ', accuracy_score(Y_test, rbf_random_centroids_predictions))"
   ],
   "metadata": {
    "collapsed": false
   }
  },
  {
   "cell_type": "code",
   "execution_count": 21,
   "outputs": [
    {
     "data": {
      "text/plain": "Text(0.5, 1.0, 'Πλήθος παραδειγμάτων ανά κλάση')"
     },
     "execution_count": 21,
     "metadata": {},
     "output_type": "execute_result"
    },
    {
     "data": {
      "text/plain": "<Figure size 640x480 with 1 Axes>",
      "image/png": "[encoded data removed]"
     },
     "metadata": {},
     "output_type": "display_data"
    }
   ],
   "source": [
    "indices = np.where((X_train_Normalization == rbf_random_centroids.centroids[:, None]).all(-1))[1]\n",
    "sns.countplot(x = Y_train[indices], palette = \"viridis\")\n",
    "plt.title(\"Πλήθος παραδειγμάτων ανά κλάση\")"
   ],
   "metadata": {
    "collapsed": false
   }
  },
  {
   "cell_type": "code",
   "execution_count": 22,
   "outputs": [
    {
     "data": {
      "text/plain": "Text(0.5, 1.0, 'Confusion Matrix')"
     },
     "execution_count": 22,
     "metadata": {},
     "output_type": "execute_result"
    },
    {
     "data": {
      "text/plain": "<Figure size 2000x900 with 2 Axes>",
      "image/png": "[encoded data removed]"
     },
     "metadata": {},
     "output_type": "display_data"
    }
   ],
   "source": [
    "conf_matrix = confusion_matrix(Y_test, rbf_random_centroids_predictions)\n",
    "plt.figure(figsize=(20,9))\n",
    "sns.heatmap(conf_matrix, annot=True, fmt=\"d\", cmap=\"Blues\")\n",
    "plt.ylabel(\"True Labels\")\n",
    "plt.xlabel(\"Predicted Labels\")\n",
    "plt.title(\"Confusion Matrix\")"
   ],
   "metadata": {
    "collapsed": false
   }
  },
  {
   "cell_type": "markdown",
   "source": [
    "### (ii) τυχαία δείγματα από κάθε κλάση"
   ],
   "metadata": {
    "collapsed": false
   }
  },
  {
   "cell_type": "code",
   "execution_count": 23,
   "outputs": [],
   "source": [
    "# Επιλογή 10 training examples από κάθε κλάση ως centroids\n",
    "rbf_equally_chosen_instances = RBFNN3(X_train_Normalization, Y_train, k=1)\n",
    "\n",
    "# Fit the model to the training data\n",
    "start_time = time.time()\n",
    "rbf_equally_chosen_instances.fit()\n",
    "end_time = time.time()\n",
    "total_time_fit = end_time - start_time\n",
    "\n",
    "# Make predictions on the test data\n",
    "start_time = time.time()\n",
    "rbf_equally_chosen_instances_predictions = rbf_equally_chosen_instances.predict(X_test_Normalization)\n",
    "end_time = time.time()\n",
    "total_time_predict = end_time - start_time"
   ],
   "metadata": {
    "collapsed": false
   }
  },
  {
   "cell_type": "code",
   "execution_count": 24,
   "outputs": [
    {
     "name": "stdout",
     "output_type": "stream",
     "text": [
      "Χρόνος εκπαίδευσης: 4.301891565322876 seconds.\n",
      "Χρόνος για predictions: 0.8601949214935303 seconds.\n",
      "Accuracy on Train:  0.50855\n",
      "Accuracy on Test:  0.4985\n"
     ]
    }
   ],
   "source": [
    "print(f\"Χρόνος εκπαίδευσης: {total_time_fit} seconds.\")\n",
    "print(f\"Χρόνος για predictions: {total_time_predict} seconds.\")\n",
    "print('Accuracy on Train: ', accuracy_score(Y_train, rbf_equally_chosen_instances.predict(X_train_Normalization)))\n",
    "print('Accuracy on Test: ', accuracy_score(Y_test, rbf_equally_chosen_instances_predictions))"
   ],
   "metadata": {
    "collapsed": false
   }
  },
  {
   "cell_type": "code",
   "execution_count": 28,
   "outputs": [
    {
     "data": {
      "text/plain": "Text(0.5, 1.0, 'Confusion Matrix')"
     },
     "execution_count": 28,
     "metadata": {},
     "output_type": "execute_result"
    },
    {
     "data": {
      "text/plain": "<Figure size 2000x900 with 2 Axes>",
      "image/png": "[encoded data removed]"
     },
     "metadata": {},
     "output_type": "display_data"
    }
   ],
   "source": [
    "conf_matrix = confusion_matrix(Y_test, rbf_equally_chosen_instances_predictions)\n",
    "plt.figure(figsize=(20,9))\n",
    "sns.heatmap(conf_matrix, annot=True, fmt=\"d\", cmap=\"Blues\")\n",
    "plt.ylabel(\"True Labels\")\n",
    "plt.xlabel(\"Predicted Labels\")\n",
    "plt.title(\"Confusion Matrix\")"
   ],
   "metadata": {
    "collapsed": false
   }
  },
  {
   "cell_type": "code",
   "execution_count": 25,
   "outputs": [
    {
     "data": {
      "text/plain": "Text(0.5, 1.0, 'Πλήθος παραδειγμάτων ανά κλάση')"
     },
     "execution_count": 25,
     "metadata": {},
     "output_type": "execute_result"
    },
    {
     "data": {
      "text/plain": "<Figure size 640x480 with 1 Axes>",
      "image/png": "[encoded data removed]"
     },
     "metadata": {},
     "output_type": "display_data"
    }
   ],
   "source": [
    "# Plot the counts of the labels in Y_train at the indices\n",
    "sns.countplot(x=rbf_equally_chosen_instances.Y_subset, palette=\"viridis\")\n",
    "plt.title(\"Πλήθος παραδειγμάτων ανά κλάση\")"
   ],
   "metadata": {
    "collapsed": false
   }
  },
  {
   "cell_type": "markdown",
   "source": [
    "### (iii) αυτό-οργάνωση (clustering)"
   ],
   "metadata": {
    "collapsed": false
   }
  },
  {
   "cell_type": "code",
   "execution_count": 26,
   "outputs": [],
   "source": [
    "# Αυτό-οργάνωση του κρυφού στρώματος με clustering\n",
    "rbf_clustering = RBFNN1(X_train_Normalization, Y_train, k=10, std_from_clusters=False)\n",
    "\n",
    "# Fit the model to the training data\n",
    "start_time = time.time()\n",
    "rbf_clustering.fit()\n",
    "end_time = time.time()\n",
    "total_time_fit = end_time - start_time\n",
    "\n",
    "# Make predictions on the test data\n",
    "start_time = time.time()\n",
    "rbf_clustering_predictions = rbf_clustering.predict(X_test_Normalization)\n",
    "end_time = time.time()\n",
    "total_time_predict = end_time - start_time"
   ],
   "metadata": {
    "collapsed": false
   }
  },
  {
   "cell_type": "code",
   "execution_count": 27,
   "outputs": [
    {
     "name": "stdout",
     "output_type": "stream",
     "text": [
      "Χρόνος εκπαίδευσης: 27.764058351516724 seconds.\n",
      "Χρόνος για predictions: 0.7573411464691162 seconds.\n",
      "Accuracy on Train:  0.6043\n",
      "Accuracy on Test:  0.6099\n"
     ]
    }
   ],
   "source": [
    "print(f\"Χρόνος εκπαίδευσης: {total_time_fit} seconds.\")\n",
    "print(f\"Χρόνος για predictions: {total_time_predict} seconds.\")\n",
    "print('Accuracy on Train: ', accuracy_score(Y_train, rbf_clustering.predict(X_train_Normalization)))\n",
    "print('Accuracy on Test: ', accuracy_score(Y_test, rbf_clustering_predictions))"
   ],
   "metadata": {
    "collapsed": false
   }
  },
  {
   "cell_type": "markdown",
   "source": [
    "- Παρατηρήσεις:\n",
    "- Όπως ήταν αναμενόμενο ο χρόνος εκπαίδευσης και πρόβλεψης μειώθηκε και στις τρεις περιπτώσεις.\n",
    "- Επίσης, μιας και μειώθηκε το capacity του δικτύου μειώθηκε και η ικανότητα του να μάθει το task. Για αυτό τον λόγο, και στις τρεις περιπτώσεις βλέπουμε μείωση στο accuracy.\n",
    "- Η αυτό-οργάνωση πετυχαίνει και πάλι τα καλύτερα αποτελέσματα με την τυχαία επιλογή δειγμάτων ως centroids να είναι η χειρότερη σε αυτό το πείραμα. Το τελευταίο είναι απολύτως λογικό καθώς στο κρυφό στρώμα δεν έχουμε κανένα centroid των κλάσεων 2,3,5 και 6. Από τον confusion matrix βλέπουμε πως για τις προαναφερθείσες κλάσεις όχι μόνο δεν έκανε καμία σωστή πρόβλεψη, αλλά δεν κατηγοριοποίησε κανένα Test δείγμα σε κάποια από αυτές, αφού στο κρυφό στρώμα που χαρακτηρίζεται και ως \"Representation Learning Layer\" δεν εκπροσωπούνται αυτές οι κλάσεις και συνεπώς στον χώρο των ομοιοτήτων δεν υπάρχουν αυτές τις κλάσεις. Ενδιαφέρον έχει το γεγονός ότι στην περίπτωση της κλάσης \"1\", όπου έχει και τα περισσότερα κέντρα στο κρυφό layer, το δίκτυο πετυχαίνει πολύ ικανοποιητικές αποδόσεις καθώς είναι πιο confident όταν κάνει classify ένα δείγμα της κλάσης \"1\".\n",
    "- Αναφορικά με την αρχικοποίηση των centroids από 10 τυχαία training examples (1 από κάθε κλάση), θα αναμέναμε το μοντέλο να τα καταφέρνει περίπου το ίδιο σε όλες τις κλάσεις. Κάτι τέτοιο, ωστόσο δε συμβαίνει με το μοντέλο να έχει καλύτερες επιδόσεις σε κάποιες κλάσεις σε σχέση με κάποιες άλλες. Για παράδειγμα, στην κλάση \"5\" έχει πολύ κακή επίδοση, ενδεχομένως επειδή το 5 που δόθηκε ως κέντρο να μην ήταν πολύ καλοσχηματισμένο και να μοιάζει πολύ με 3 (και έτσι πολλά 5 να γίνονται classify ως 3)."
   ],
   "metadata": {
    "collapsed": false
   }
  },
  {
   "cell_type": "markdown",
   "source": [
    "# 3. Extreme Learning Machine (ELM)\n",
    "- θα προσπαθήσουμε σε αυτό το πείραμα να ορίσουμε μια Extreme Learning Machine, με αφορμή το γεγονός ότι σε προηγούμενο πείραμα η τυχαία επιλογή δειγμάτων ως κέντρα στους RBF νευρώνες είχε καλύτερη επίδοση, σε σχέση με την επιλογή ενός instance από κάθε κλάση ως κέντρο.\n",
    "- Για να ορίσουμε μια ELM θα ορίσουμε 100 τυχαία κέντρα και 100 τυχαία standard deviations για τους RBF νευρώνες. Κρατώντας αυτές τις παραμέτρους των νευρώνων fix, θα βρούμε τα weights του output layer με \"least squares\"."
   ],
   "metadata": {
    "collapsed": false
   }
  },
  {
   "cell_type": "markdown",
   "source": [
    "#### Τροποποίηση της RBFNN1 για να μας εξυπηρετεί στο συγκεκριμένο πείραμα"
   ],
   "metadata": {
    "collapsed": false
   }
  },
  {
   "cell_type": "code",
   "execution_count": 54,
   "outputs": [],
   "source": [
    "class ELM:\n",
    "    def __init__(self, X, y, k):\n",
    "        self.std_list = None\n",
    "        self.centroids = None\n",
    "        self.w = None\n",
    "        self.X = X\n",
    "        self.y = y\n",
    "        self.k = k\n",
    "\n",
    "    '''k random for centroids and also calculates k random std for each RBF function'''\n",
    "    def calculate_centroids_std(self, X, k):\n",
    "\n",
    "        # Generate k random vectors of size X.shape[1] (eg. 784 for MNIST) each\n",
    "        centroids = np.random.rand(k, X.shape[1])\n",
    "\n",
    "        # Generate a vector of size 10 with the same random float (between 0 and 10 - more precisely [0,10)\n",
    "        random_float = np.random.uniform(low=0, high=10 + 1e-10)\n",
    "        std_list = np.repeat(random_float, k)\n",
    "\n",
    "        return centroids,std_list\n",
    "\n",
    "    '''Calculates the Euclidean distance between the data point x and the center point c, and then uses this distance to calculate the output of the Gaussian radial basis function. The standard deviation s determines the width of the Gaussian.'''\n",
    "    def gaussian_rbf(self, x, c, s):\n",
    "        distance = np.linalg.norm(x - c)\n",
    "        return np.exp(-distance**2 / (2 * s**2))\n",
    "\n",
    "    '''Calculates the output of each radial basis function using the gaussian_rbf function'''\n",
    "    def rbf_list(self, X, centroids, std_list):\n",
    "        rbf_list = []\n",
    "        for x in X:\n",
    "            rbf_list.append([self.gaussian_rbf(x, c, s) for (c, s) in zip(centroids, std_list)])\n",
    "        return np.array(rbf_list)\n",
    "\n",
    "    '''Converts the labels to one hot encoding vectors'''\n",
    "    def convert_to_one_hot(self, x, num_of_classes):\n",
    "        arr = np.zeros((len(x), num_of_classes))\n",
    "        for i in range(len(x)):\n",
    "            c = int(x[i])\n",
    "            arr[i][c] = 1\n",
    "        return arr\n",
    "\n",
    "    def fit(self):\n",
    "        # Calculate the cluster centers and standard deviations\n",
    "        self.centroids, self.std_list = self.calculate_centroids_std(self.X, self.k)\n",
    "\n",
    "        # num of different classes\n",
    "        num_of_classes = len(np.unique(self.y))\n",
    "\n",
    "        # Calculate the outputs of the radial basis functions\n",
    "        RBF_X = self.rbf_list(self.X, self.centroids, self.std_list)\n",
    "\n",
    "        # Calculate the weights of the output layer using \"least squares\"\n",
    "        self.w = np.linalg.pinv(RBF_X.T @ RBF_X) @ RBF_X.T @ self.convert_to_one_hot(self.y, num_of_classes)\n",
    "\n",
    "    def predict(self,X_test):\n",
    "        # Calculate the outputs of the radial basis functions\n",
    "        RBF_X = self.rbf_list(X_test, self.centroids, self.std_list)\n",
    "\n",
    "        # Calculate the output of the network\n",
    "        predictions = RBF_X @ self.w\n",
    "\n",
    "        # return the predictions of the network (in form of labels and not as One Hot vectors)\n",
    "        return np.array([np.argmax(x) for x in predictions])"
   ],
   "metadata": {
    "collapsed": false
   }
  },
  {
   "cell_type": "code",
   "execution_count": 59,
   "outputs": [],
   "source": [
    "# Extreme Learning Machine\n",
    "rbf_elm = ELM(X_train_Normalization, Y_train, k=100)\n",
    "\n",
    "# Fit the model to the training data\n",
    "start_time = time.time()\n",
    "rbf_elm.fit()\n",
    "end_time = time.time()\n",
    "total_time_fit = end_time - start_time\n",
    "\n",
    "# Make predictions on the test data\n",
    "start_time = time.time()\n",
    "rbf_elm_predictions = rbf_elm.predict(X_test_Normalization)\n",
    "end_time = time.time()\n",
    "total_time_predict = end_time - start_time"
   ],
   "metadata": {
    "collapsed": false
   }
  },
  {
   "cell_type": "code",
   "execution_count": 60,
   "outputs": [
    {
     "name": "stdout",
     "output_type": "stream",
     "text": [
      "Χρόνος εκπαίδευσης: 41.219772815704346 seconds.\n",
      "Χρόνος για predictions: 6.947722434997559 seconds.\n",
      "Accuracy on Train:  0.8228166666666666\n",
      "Accuracy on Test:  0.829\n"
     ]
    }
   ],
   "source": [
    "print(f\"Χρόνος εκπαίδευσης: {total_time_fit} seconds.\")\n",
    "print(f\"Χρόνος για predictions: {total_time_predict} seconds.\")\n",
    "print('Accuracy on Train: ', accuracy_score(Y_train, rbf_elm.predict(X_train_Normalization)))\n",
    "print('Accuracy on Test: ', accuracy_score(Y_test, rbf_elm_predictions))"
   ],
   "metadata": {
    "collapsed": false
   }
  },
  {
   "cell_type": "markdown",
   "source": [
    "#### Παρατηρήσεις:\n",
    "- Παρατηρούμε ότι το ELM μοντέλο μας πλησιάζει αρκετά τις επιδόσεις του RBF με αυτό-οργανωμένο κρυφό layer, ενώ μάλιστα είναι αρκετά πιο γρήγορη η εκπαίδευση του.\n",
    "- Το ELM μοντέλο ξεπερνάει (δεδομένου του ίδιου πλήθους νευρώνων στο κρυφό επίπεδο) και την περίπτωση όπου στο κρυφό επίπεδο επιλέγουμε τυχαία δείγματα αλλά και την περίπτωση όπου έχουμε τυχαία δείγματα από κάθε κλάση."
   ],
   "metadata": {
    "collapsed": false
   }
  },
  {
   "cell_type": "markdown",
   "source": [
    "# 4. Σύγκριση RBF με KNN, Nearest Class Centroid και MLP\n",
    "### Το RBF νευρωνικό δίκτυο μοιάζει με κάποιες μηχανές που έχουμε δει, όπως είναι ο KNN και ο NCC.\n",
    "- Για παράδειγμα, εάν βάλουμε όλο το Data Set στο κρυφό layer ως κέντρα στους RBF νευρώνες προσομοιάζουμε τον KNN.\n",
    "- Αντίστοιχα, εάν βάλουμε τα κέντρα του NCC ως κέντρα στους RBF νευρώνες, προσομοιάζουμε τον NCC."
   ],
   "metadata": {
    "collapsed": false
   }
  },
  {
   "cell_type": "markdown",
   "source": [
    "<h3>K-Nearest Neighbors Classifier</h3>\n",
    "<h4>Με 1 πλησιέστερο γείτονα (Κ=1)</h4>"
   ],
   "metadata": {
    "collapsed": false
   }
  },
  {
   "cell_type": "code",
   "execution_count": 61,
   "outputs": [],
   "source": [
    "knn_1 = KNeighborsClassifier(n_neighbors=1, n_jobs=-1)\n",
    "#fit\n",
    "start_time = time.time()\n",
    "knn_1.fit(X_train_Normalization, Y_train)\n",
    "end_time = time.time()\n",
    "total_time_fit = end_time - start_time\n",
    "\n",
    "#predict\n",
    "start_time = time.time()\n",
    "knn_1_predictions = knn_1.predict(X_test_Normalization)\n",
    "end_time = time.time()\n",
    "total_time_predict = end_time - start_time"
   ],
   "metadata": {
    "collapsed": false
   }
  },
  {
   "cell_type": "code",
   "execution_count": 62,
   "outputs": [
    {
     "name": "stdout",
     "output_type": "stream",
     "text": [
      "Χρόνος εκπαίδευσης: 20.851398229599 seconds.\n",
      "Χρόνος για predictions: 84.4909815788269 seconds.\n",
      "Accuracy on Train:  1.0\n",
      "Accuracy on Test:  0.9691\n"
     ]
    }
   ],
   "source": [
    "print(f\"Χρόνος εκπαίδευσης: {total_time_fit} seconds.\")\n",
    "print(f\"Χρόνος για predictions: {total_time_predict} seconds.\")\n",
    "print('Accuracy on Train: ', accuracy_score(Y_train, knn_1.predict(X_train_Normalization)))\n",
    "print('Accuracy on Test: ', accuracy_score(Y_test, knn_1_predictions))"
   ],
   "metadata": {
    "collapsed": false
   }
  },
  {
   "cell_type": "markdown",
   "source": [
    "<h3>K-Nearest Neighbors Classifier</h3>\n",
    "<h4>Με 3 πλησιέστερους γείτονες (Κ=3)</h4>"
   ],
   "metadata": {
    "collapsed": false
   }
  },
  {
   "cell_type": "code",
   "execution_count": 64,
   "outputs": [],
   "source": [
    "knn_3 = KNeighborsClassifier(n_neighbors=3, n_jobs=-1)\n",
    "#fit\n",
    "start_time = time.time()\n",
    "knn_3.fit(X_train_Normalization,Y_train)\n",
    "end_time = time.time()\n",
    "total_time_fit = end_time - start_time\n",
    "\n",
    "#predict\n",
    "start_time = time.time()\n",
    "knn_3_predictions = knn_3.predict(X_test_Normalization)\n",
    "end_time = time.time()\n",
    "total_time_predict = end_time - start_time"
   ],
   "metadata": {
    "collapsed": false
   }
  },
  {
   "cell_type": "code",
   "execution_count": 65,
   "outputs": [
    {
     "name": "stdout",
     "output_type": "stream",
     "text": [
      "Χρόνος εκπαίδευσης: 19.34721565246582 seconds.\n",
      "Χρόνος για predictions: 84.20705842971802 seconds.\n",
      "Accuracy on Train:  0.9867166666666667\n",
      "Accuracy on Test:  0.9705\n"
     ]
    }
   ],
   "source": [
    "print(f\"Χρόνος εκπαίδευσης: {total_time_fit} seconds.\")\n",
    "print(f\"Χρόνος για predictions: {total_time_predict} seconds.\")\n",
    "print('Accuracy on Train: ', accuracy_score(Y_train, knn_3.predict(X_train_Normalization)))\n",
    "print('Accuracy on Test: ', accuracy_score(Y_test, knn_3_predictions))"
   ],
   "metadata": {
    "collapsed": false
   }
  },
  {
   "cell_type": "markdown",
   "source": [
    "Γιατί ο KNN, πετυχαίνει τόσο καλά αποτελέσματα:\n",
    "- the images of the digits are very similar to one another and have strong internal structures\n",
    "- The pixels of the digits are also relatively well-aligned and easy to identify\n",
    "- We have a relatively small number of k (eg K=1 or K=3) nearest neighbours. With a small number of nearest neighbours, the algorithm is less sensitive to noise and can more easily identify similar examples in the training set to the one we're trying to classify.\n",
    "- The MNIST Data Set is not very complex."
   ],
   "metadata": {
    "collapsed": false
   }
  },
  {
   "cell_type": "markdown",
   "source": [
    "#### Τροποποίηση της RBFNN1 κλάσης προκειμένου να δημιουργήσουμε ένα \"KNN like\" δίκτυο RBF, όπου στο κρυφό layer έχει όλο το Data Set"
   ],
   "metadata": {
    "collapsed": false
   }
  },
  {
   "cell_type": "code",
   "execution_count": 68,
   "outputs": [],
   "source": [
    "class RbfKnn:\n",
    "    def __init__(self, X, y, k):\n",
    "        self.std_list = None\n",
    "        self.centroids = None\n",
    "        self.w = None\n",
    "        self.X = X\n",
    "        self.y = y\n",
    "        self.k = k\n",
    "\n",
    "    '''The whole Data Set is used for centroids and also calculates std of each RBF function'''\n",
    "    def calculate_centroids_std(self, X, k):\n",
    "        # Select the training examples as centroids\n",
    "        centroids = X\n",
    "\n",
    "        dMax = np.max([np.linalg.norm(c1 - c2) for c1 in centroids for c2 in centroids])\n",
    "        std_list = np.repeat(dMax / np.sqrt(2 * k), k)\n",
    "\n",
    "        return centroids,std_list\n",
    "\n",
    "    '''Calculates the Euclidean distance between the data point x and the center point c, and then uses this distance to calculate the output of the Gaussian radial basis function. The standard deviation s determines the width of the Gaussian.'''\n",
    "    def gaussian_rbf(self, x, c, s):\n",
    "        distance = np.linalg.norm(x - c)\n",
    "        return np.exp(-distance**2 / (2 * s**2))\n",
    "\n",
    "    '''Calculates the output of each radial basis function using the gaussian_rbf function'''\n",
    "    def rbf_list(self, X, centroids, std_list):\n",
    "        rbf_list = []\n",
    "        for x in X:\n",
    "            rbf_list.append([self.gaussian_rbf(x, c, s) for (c, s) in zip(centroids, std_list)])\n",
    "        return np.array(rbf_list)\n",
    "\n",
    "    '''Converts the labels to one hot encoding vectors'''\n",
    "    def convert_to_one_hot(self, x, num_of_classes):\n",
    "        arr = np.zeros((len(x), num_of_classes))\n",
    "        for i in range(len(x)):\n",
    "            c = int(x[i])\n",
    "            arr[i][c] = 1\n",
    "        return arr\n",
    "\n",
    "    def fit(self):\n",
    "        # Calculate the cluster centers and standard deviations\n",
    "        self.centroids, self.std_list = self.calculate_centroids_std(self.X, self.k)\n",
    "\n",
    "        # num of different classes\n",
    "        num_of_classes = len(np.unique(self.y))\n",
    "\n",
    "        # Calculate the outputs of the radial basis functions\n",
    "        RBF_X = self.rbf_list(self.X, self.centroids, self.std_list)\n",
    "\n",
    "        # Calculate the weights of the output layer using \"least squares\"\n",
    "        self.w = np.linalg.pinv(RBF_X.T @ RBF_X) @ RBF_X.T @ self.convert_to_one_hot(self.y, num_of_classes)\n",
    "\n",
    "    def predict(self,X_test):\n",
    "        # Calculate the outputs of the radial basis functions\n",
    "        RBF_X = self.rbf_list(X_test, self.centroids, self.std_list)\n",
    "\n",
    "        # Calculate the output of the network\n",
    "        predictions = RBF_X @ self.w\n",
    "\n",
    "        # return the predictions of the network (in form of labels and not as One Hot vectors)\n",
    "        return np.array([np.argmax(x) for x in predictions])"
   ],
   "metadata": {
    "collapsed": false
   }
  },
  {
   "cell_type": "code",
   "execution_count": 84,
   "outputs": [],
   "source": [
    "# \"KNN like\" δίκτυο RBF\n",
    "size = 1000\n",
    "rbf_knn = RbfKnn(X_train_Normalization[:size],Y_train[:size],k=X_train_Normalization[:size].shape[0])\n",
    "\n",
    "# Fit the model to the training data\n",
    "start_time = time.time()\n",
    "rbf_knn.fit()\n",
    "end_time = time.time()\n",
    "total_time_fit = end_time - start_time\n",
    "\n",
    "# Make predictions on the test data\n",
    "start_time = time.time()\n",
    "rbf_knn_predictions = rbf_knn.predict(X_test_Normalization)\n",
    "end_time = time.time()\n",
    "total_time_predict = end_time - start_time"
   ],
   "metadata": {
    "collapsed": false
   }
  },
  {
   "cell_type": "code",
   "execution_count": 85,
   "outputs": [
    {
     "name": "stdout",
     "output_type": "stream",
     "text": [
      "Χρόνος εκπαίδευσης: 12.183484315872192 seconds.\n",
      "Χρόνος για predictions: 68.8396532535553 seconds.\n",
      "Accuracy on Train:  0.87145\n",
      "Accuracy on Test:  0.869\n"
     ]
    }
   ],
   "source": [
    "print(f\"Χρόνος εκπαίδευσης: {total_time_fit} seconds.\")\n",
    "print(f\"Χρόνος για predictions: {total_time_predict} seconds.\")\n",
    "print('Accuracy on Train: ', accuracy_score(Y_train, rbf_knn.predict(X_train_Normalization)))\n",
    "print('Accuracy on Test: ', accuracy_score(Y_test, rbf_knn_predictions))"
   ],
   "metadata": {
    "collapsed": false
   }
  },
  {
   "cell_type": "markdown",
   "source": [
    "### Παρατηρήσεις:\n",
    "- Προσπαθούμε να δημιουργήσουμε ένα KNN-like RBF δίκτυο.\n",
    "- Ωστόσο, λόγω του μεγάλου πλήθους των Training Examples(60k instances) ήταν αδύνατη λόγω χρόνου η εκπαίδευση ενός τέτοιου δικτύου.\n",
    "- Για αυτόν τον λόγο εκπαιδεύσαμε ένα \"KNN-like\" δίκτυο με size=1000 παραδείγματα εκπαίδευσης. Τα αποτελέσματα είναι ιδιαίτερα ικανοποιητικά καθώς πετυχαίνουμε περίπου 87% accuracy στα άγνωστα δεδομένα, έχοντας εκπαιδεύσει μόνο με 1k από τα 60k δείγματα του Data Set."
   ],
   "metadata": {
    "collapsed": false
   }
  },
  {
   "cell_type": "markdown",
   "source": [
    "<h3>Nearest Class Centroid Classifier</h3>"
   ],
   "metadata": {
    "collapsed": false
   }
  },
  {
   "cell_type": "code",
   "execution_count": 70,
   "outputs": [],
   "source": [
    "ncc = NearestCentroid()\n",
    "#fit\n",
    "start_time = time.time()\n",
    "ncc.fit(X_train_Normalization,Y_train)\n",
    "end_time = time.time()\n",
    "total_time_fit = end_time - start_time\n",
    "\n",
    "#predict\n",
    "start_time = time.time()\n",
    "ncc_predictions = ncc.predict(X_test_Normalization)\n",
    "end_time = time.time()\n",
    "total_time_predict = end_time - start_time"
   ],
   "metadata": {
    "collapsed": false
   }
  },
  {
   "cell_type": "code",
   "execution_count": 71,
   "outputs": [
    {
     "name": "stdout",
     "output_type": "stream",
     "text": [
      "Χρόνος εκπαίδευσης: 0.15003371238708496 seconds.\n",
      "Χρόνος για predictions: 0.08201742172241211 seconds.\n",
      "Accuracy on Train:  0.8079833333333334\n",
      "Accuracy on Test:  0.8203\n"
     ]
    }
   ],
   "source": [
    "print(f\"Χρόνος εκπαίδευσης: {total_time_fit} seconds.\")\n",
    "print(f\"Χρόνος για predictions: {total_time_predict} seconds.\")\n",
    "print('Accuracy on Train: ', accuracy_score(Y_train, ncc.predict(X_train_Normalization)))\n",
    "print('Accuracy on Test: ', accuracy_score(Y_test, ncc_predictions))"
   ],
   "metadata": {
    "collapsed": false
   }
  },
  {
   "cell_type": "markdown",
   "source": [
    "#### Τροποποίηση της RBFNN1 κλάσης προκειμένου να δημιουργήσουμε ένα \"NCC like\" δίκτυο RBF, όπου στο κρυφό layer έχει τα κέντρα όπως αυτά προέκυψαν από το NCC μοντέλο"
   ],
   "metadata": {
    "collapsed": false
   }
  },
  {
   "cell_type": "code",
   "execution_count": 78,
   "outputs": [],
   "source": [
    "class RbfNcc:\n",
    "    def __init__(self, X, y, k, centroids):\n",
    "        self.std_list = None\n",
    "        self.centroids = centroids\n",
    "        self.w = None\n",
    "        self.X = X\n",
    "        self.y = y\n",
    "        self.k = k\n",
    "\n",
    "    '''calculates std of each RBF function'''\n",
    "    def calculate_std(self, k, centroids):\n",
    "\n",
    "        dMax = np.max([np.linalg.norm(c1 - c2) for c1 in centroids for c2 in centroids])\n",
    "        std_list = np.repeat(dMax / np.sqrt(2 * k), k)\n",
    "\n",
    "        return std_list\n",
    "\n",
    "    '''Calculates the Euclidean distance between the data point x and the center point c, and then uses this distance to calculate the output of the Gaussian radial basis function. The standard deviation s determines the width of the Gaussian.'''\n",
    "    def gaussian_rbf(self, x, c, s):\n",
    "        distance = np.linalg.norm(x - c)\n",
    "        return np.exp(-distance**2 / (2 * s**2))\n",
    "\n",
    "    '''Calculates the output of each radial basis function using the gaussian_rbf function'''\n",
    "    def rbf_list(self, X, centroids, std_list):\n",
    "        rbf_list = []\n",
    "        for x in X:\n",
    "            rbf_list.append([self.gaussian_rbf(x, c, s) for (c, s) in zip(centroids, std_list)])\n",
    "        return np.array(rbf_list)\n",
    "\n",
    "    '''Converts the labels to one hot encoding vectors'''\n",
    "    def convert_to_one_hot(self, x, num_of_classes):\n",
    "        arr = np.zeros((len(x), num_of_classes))\n",
    "        for i in range(len(x)):\n",
    "            c = int(x[i])\n",
    "            arr[i][c] = 1\n",
    "        return arr\n",
    "\n",
    "    def fit(self):\n",
    "        # Calculate the cluster centers and standard deviations\n",
    "        self.std_list = self.calculate_std(k=self.k, centroids=self.centroids)\n",
    "\n",
    "        # num of different classes\n",
    "        num_of_classes = len(np.unique(self.y))\n",
    "\n",
    "        # Calculate the outputs of the radial basis functions\n",
    "        RBF_X = self.rbf_list(self.X, self.centroids, self.std_list)\n",
    "\n",
    "        # Calculate the weights of the output layer using \"least squares\"\n",
    "        self.w = np.linalg.pinv(RBF_X.T @ RBF_X) @ RBF_X.T @ self.convert_to_one_hot(self.y, num_of_classes)\n",
    "\n",
    "    def predict(self,X_test):\n",
    "        # Calculate the outputs of the radial basis functions\n",
    "        RBF_X = self.rbf_list(X_test, self.centroids, self.std_list)\n",
    "\n",
    "        # Calculate the output of the network\n",
    "        predictions = RBF_X @ self.w\n",
    "\n",
    "        # return the predictions of the network (in form of labels and not as One Hot vectors)\n",
    "        return np.array([np.argmax(x) for x in predictions])"
   ],
   "metadata": {
    "collapsed": false
   }
  },
  {
   "cell_type": "code",
   "execution_count": 79,
   "outputs": [],
   "source": [
    "# \"NCC like\" δίκτυο RBF\n",
    "rbf_ncc = RbfNcc(X_train_Normalization,Y_train,k=ncc.centroids_.shape[0],centroids=ncc.centroids_)\n",
    "\n",
    "# Fit the model to the training data\n",
    "start_time = time.time()\n",
    "rbf_ncc.fit()\n",
    "end_time = time.time()\n",
    "total_time_fit = end_time - start_time\n",
    "\n",
    "# Make predictions on the test data\n",
    "start_time = time.time()\n",
    "rbf_ncc_predictions = rbf_ncc.predict(X_test_Normalization)\n",
    "end_time = time.time()\n",
    "total_time_predict = end_time - start_time"
   ],
   "metadata": {
    "collapsed": false
   }
  },
  {
   "cell_type": "code",
   "execution_count": 80,
   "outputs": [
    {
     "name": "stdout",
     "output_type": "stream",
     "text": [
      "Χρόνος εκπαίδευσης: 4.612911224365234 seconds.\n",
      "Χρόνος για predictions: 0.7211623191833496 seconds.\n",
      "Accuracy on Train:  0.7894\n",
      "Accuracy on Test:  0.799\n"
     ]
    }
   ],
   "source": [
    "print(f\"Χρόνος εκπαίδευσης: {total_time_fit} seconds.\")\n",
    "print(f\"Χρόνος για predictions: {total_time_predict} seconds.\")\n",
    "print('Accuracy on Train: ', accuracy_score(Y_train, rbf_ncc.predict(X_train_Normalization)))\n",
    "print('Accuracy on Test: ', accuracy_score(Y_test, rbf_ncc_predictions))"
   ],
   "metadata": {
    "collapsed": false
   }
  },
  {
   "cell_type": "markdown",
   "source": [
    "#### Παρατηρήσεις:\n",
    "- Προσπαθούμε να δημιουργήσουμε ένα \"NCC-like\" RBF δίκτυο χρησιμοποιώντας ως centroids, τα 10 (αφού 10 κλάσεις έχουμε) centroids που προέκυψαν από το NCC μοντέλο.\n",
    "- Παρατηρούμε ότι τα αποτελέσματα αναφορικά με την μετρική του accuracy είναι παρόμοια με αυτά του NCC μοντέλου."
   ],
   "metadata": {
    "collapsed": false
   }
  },
  {
   "cell_type": "markdown",
   "source": [
    "### RBF Neural Network\n",
    "- Εκπαίδευση ενός RBF με αυτό-οργανωμένο κρυφό επίπεδο. Έχει 100 RBF νευρώνες στο hidden layer και ίσα πλάτη."
   ],
   "metadata": {
    "collapsed": false
   }
  },
  {
   "cell_type": "code",
   "execution_count": 96,
   "outputs": [],
   "source": [
    "# RBF με αυτό-οργανωμένο κρυφό επίπεδο.\n",
    "rbf = RBFNN1(X_train_Normalization, Y_train, k=100, std_from_clusters=False)\n",
    "\n",
    "# Fit the model to the training data\n",
    "start_time = time.time()\n",
    "rbf.fit()\n",
    "end_time = time.time()\n",
    "total_time_fit = end_time - start_time\n",
    "\n",
    "# Make predictions on the test data\n",
    "start_time = time.time()\n",
    "rbf_predictions = rbf.predict(X_test_Normalization)\n",
    "end_time = time.time()\n",
    "total_time_predict = end_time - start_time"
   ],
   "metadata": {
    "collapsed": false
   }
  },
  {
   "cell_type": "code",
   "execution_count": 97,
   "outputs": [
    {
     "name": "stdout",
     "output_type": "stream",
     "text": [
      "Χρόνος εκπαίδευσης: 180.62960124015808 seconds.\n",
      "Χρόνος για predictions: 6.814982652664185 seconds.\n",
      "Accuracy on Train:  0.8463\n",
      "Accuracy on Test:  0.8499\n"
     ]
    }
   ],
   "source": [
    "print(f\"Χρόνος εκπαίδευσης: {total_time_fit} seconds.\")\n",
    "print(f\"Χρόνος για predictions: {total_time_predict} seconds.\")\n",
    "print('Accuracy on Train: ', accuracy_score(Y_train, rbf.predict(X_train_Normalization)))\n",
    "print('Accuracy on Test: ', accuracy_score(Y_test, rbf_predictions))"
   ],
   "metadata": {
    "collapsed": false
   }
  },
  {
   "cell_type": "code",
   "execution_count": 98,
   "outputs": [
    {
     "data": {
      "text/plain": "Text(0.5, 1.0, 'Confusion Matrix')"
     },
     "execution_count": 98,
     "metadata": {},
     "output_type": "execute_result"
    },
    {
     "data": {
      "text/plain": "<Figure size 2000x900 with 2 Axes>",
      "image/png": "[encoded data removed]"
     },
     "metadata": {},
     "output_type": "display_data"
    }
   ],
   "source": [
    "conf_matrix = confusion_matrix(Y_test, rbf_predictions)\n",
    "plt.figure(figsize=(20,9))\n",
    "sns.heatmap(conf_matrix, annot=True, fmt=\"d\", cmap=\"Blues\")\n",
    "plt.ylabel(\"True Labels\")\n",
    "plt.xlabel(\"Predicted Labels\")\n",
    "plt.title(\"Confusion Matrix\")"
   ],
   "metadata": {
    "collapsed": false
   }
  },
  {
   "cell_type": "markdown",
   "source": [
    "#### Παρατηρήσεις:\n",
    "- Το RBF δίκτυο λόγω του clustering χρειάζεται αρκετά περισσότερο χρόνο εκπαίδευσης σε σχέση με KNN και NCC\n",
    "- Συγκριτικά με το NCC μοντέλο το RBF έχει λίγο καλύτερη απόδοση, αλλά συγκριτικά με τον KNN είναι αρκετά χειρότερος\n"
   ],
   "metadata": {
    "collapsed": false
   }
  },
  {
   "cell_type": "markdown",
   "source": [
    "### Multilayer Perceptron (MLP) Classifier"
   ],
   "metadata": {
    "collapsed": false
   }
  },
  {
   "cell_type": "markdown",
   "source": [
    "#### 1. Εκπαίδευση με όλο το Training Data Set"
   ],
   "metadata": {
    "collapsed": false
   }
  },
  {
   "cell_type": "code",
   "execution_count": 125,
   "outputs": [
    {
     "name": "stderr",
     "output_type": "stream",
     "text": [
      "C:\\Users\\User\\anaconda3\\envs\\MLenv\\lib\\site-packages\\sklearn\\neural_network\\_multilayer_perceptron.py:585: ConvergenceWarning: Stochastic Optimizer: Maximum iterations (200) reached and the optimization hasn't converged yet.\n",
      "  % self.max_iter, ConvergenceWarning)\n"
     ]
    }
   ],
   "source": [
    "multilayer_perceptron = MLPClassifier(hidden_layer_sizes=(100,),activation=\"relu\",solver=\"sgd\",alpha=0.001,random_state=RANDOM_STATE,verbose=False)\n",
    "# Fit the model to the training data\n",
    "start_time = time.time()\n",
    "multilayer_perceptron.fit(X_train_Normalization,Y_train)\n",
    "end_time = time.time()\n",
    "total_time_fit = end_time - start_time\n",
    "\n",
    "# Make predictions on the test data\n",
    "start_time = time.time()\n",
    "multilayer_perceptron_predictions = multilayer_perceptron.predict(X_test_Normalization)\n",
    "end_time = time.time()\n",
    "total_time_predict = end_time - start_time"
   ],
   "metadata": {
    "collapsed": false
   }
  },
  {
   "cell_type": "code",
   "execution_count": 126,
   "outputs": [
    {
     "name": "stdout",
     "output_type": "stream",
     "text": [
      "Χρόνος εκπαίδευσης: 139.42679262161255 seconds.\n",
      "Χρόνος για predictions: 0.042009592056274414 seconds.\n",
      "Accuracy on Train:  0.9789833333333333\n",
      "Accuracy on Test:  0.971\n"
     ]
    }
   ],
   "source": [
    "print(f\"Χρόνος εκπαίδευσης: {total_time_fit} seconds.\")\n",
    "print(f\"Χρόνος για predictions: {total_time_predict} seconds.\")\n",
    "print('Accuracy on Train: ', accuracy_score(Y_train, multilayer_perceptron.predict(X_train_Normalization)))\n",
    "print('Accuracy on Test: ', accuracy_score(Y_test, multilayer_perceptron_predictions))"
   ],
   "metadata": {
    "collapsed": false
   }
  },
  {
   "cell_type": "markdown",
   "source": [
    "#### 2.Εκπαίδευση χρησιμοποιώντας μόνο 1000 δείγματα από όλο το Data Set"
   ],
   "metadata": {
    "collapsed": false
   }
  },
  {
   "cell_type": "code",
   "execution_count": 121,
   "outputs": [
    {
     "name": "stdout",
     "output_type": "stream",
     "text": [
      "Iteration 1, loss = 2.35617540\n",
      "Iteration 2, loss = 2.33183950\n",
      "Iteration 3, loss = 2.29678343\n",
      "Iteration 4, loss = 2.25733409\n",
      "Iteration 5, loss = 2.21554264\n",
      "Iteration 6, loss = 2.17319574\n",
      "Iteration 7, loss = 2.13226456\n",
      "Iteration 8, loss = 2.09232562\n",
      "Iteration 9, loss = 2.05331376\n",
      "Iteration 10, loss = 2.01540256\n",
      "Iteration 11, loss = 1.97823265\n",
      "Iteration 12, loss = 1.94160674\n",
      "Iteration 13, loss = 1.90522834\n",
      "Iteration 14, loss = 1.86955433\n",
      "Iteration 15, loss = 1.83441080\n",
      "Iteration 16, loss = 1.79962227\n",
      "Iteration 17, loss = 1.76480205\n",
      "Iteration 18, loss = 1.73071407\n",
      "Iteration 19, loss = 1.69657693\n",
      "Iteration 20, loss = 1.66317364\n",
      "Iteration 21, loss = 1.63013626\n",
      "Iteration 22, loss = 1.59778452\n",
      "Iteration 23, loss = 1.56597390\n",
      "Iteration 24, loss = 1.53469746\n",
      "Iteration 25, loss = 1.50421651\n",
      "Iteration 26, loss = 1.47430559\n",
      "Iteration 27, loss = 1.44475524\n",
      "Iteration 28, loss = 1.41607528\n",
      "Iteration 29, loss = 1.38802426\n",
      "Iteration 30, loss = 1.36106719\n",
      "Iteration 31, loss = 1.33447201\n",
      "Iteration 32, loss = 1.30873839\n",
      "Iteration 33, loss = 1.28374494\n",
      "Iteration 34, loss = 1.25917245\n",
      "Iteration 35, loss = 1.23557753\n",
      "Iteration 36, loss = 1.21264783\n",
      "Iteration 37, loss = 1.19061370\n",
      "Iteration 38, loss = 1.16909416\n",
      "Iteration 39, loss = 1.14838925\n",
      "Iteration 40, loss = 1.12836534\n",
      "Iteration 41, loss = 1.10912402\n",
      "Iteration 42, loss = 1.09049532\n",
      "Iteration 43, loss = 1.07230138\n",
      "Iteration 44, loss = 1.05500465\n",
      "Iteration 45, loss = 1.03813465\n",
      "Iteration 46, loss = 1.02189547\n",
      "Iteration 47, loss = 1.00613128\n",
      "Iteration 48, loss = 0.99097985\n",
      "Iteration 49, loss = 0.97627838\n",
      "Iteration 50, loss = 0.96220581\n",
      "Iteration 51, loss = 0.94849426\n",
      "Iteration 52, loss = 0.93498701\n",
      "Iteration 53, loss = 0.92208815\n",
      "Iteration 54, loss = 0.90983921\n",
      "Iteration 55, loss = 0.89774015\n",
      "Iteration 56, loss = 0.88593549\n",
      "Iteration 57, loss = 0.87475246\n",
      "Iteration 58, loss = 0.86368874\n",
      "Iteration 59, loss = 0.85309854\n",
      "Iteration 60, loss = 0.84286634\n",
      "Iteration 61, loss = 0.83295308\n",
      "Iteration 62, loss = 0.82319573\n",
      "Iteration 63, loss = 0.81374843\n",
      "Iteration 64, loss = 0.80466992\n",
      "Iteration 65, loss = 0.79582992\n",
      "Iteration 66, loss = 0.78729204\n",
      "Iteration 67, loss = 0.77893900\n",
      "Iteration 68, loss = 0.77079624\n",
      "Iteration 69, loss = 0.76292341\n",
      "Iteration 70, loss = 0.75520997\n",
      "Iteration 71, loss = 0.74782577\n",
      "Iteration 72, loss = 0.74063109\n",
      "Iteration 73, loss = 0.73336835\n",
      "Iteration 74, loss = 0.72656836\n",
      "Iteration 75, loss = 0.71988535\n",
      "Iteration 76, loss = 0.71329596\n",
      "Iteration 77, loss = 0.70687499\n",
      "Iteration 78, loss = 0.70061845\n",
      "Iteration 79, loss = 0.69450829\n",
      "Iteration 80, loss = 0.68843680\n",
      "Iteration 81, loss = 0.68268250\n",
      "Iteration 82, loss = 0.67700731\n",
      "Iteration 83, loss = 0.67152881\n",
      "Iteration 84, loss = 0.66601276\n",
      "Iteration 85, loss = 0.66070843\n",
      "Iteration 86, loss = 0.65553845\n",
      "Iteration 87, loss = 0.65049720\n",
      "Iteration 88, loss = 0.64546190\n",
      "Iteration 89, loss = 0.64063487\n",
      "Iteration 90, loss = 0.63577453\n",
      "Iteration 91, loss = 0.63116441\n",
      "Iteration 92, loss = 0.62662667\n",
      "Iteration 93, loss = 0.62210625\n",
      "Iteration 94, loss = 0.61765435\n",
      "Iteration 95, loss = 0.61338547\n",
      "Iteration 96, loss = 0.60918055\n",
      "Iteration 97, loss = 0.60507022\n",
      "Iteration 98, loss = 0.60098588\n",
      "Iteration 99, loss = 0.59698528\n",
      "Iteration 100, loss = 0.59299710\n",
      "Iteration 101, loss = 0.58919323\n",
      "Iteration 102, loss = 0.58540651\n",
      "Iteration 103, loss = 0.58169536\n",
      "Iteration 104, loss = 0.57798198\n",
      "Iteration 105, loss = 0.57453477\n",
      "Iteration 106, loss = 0.57095869\n",
      "Iteration 107, loss = 0.56750717\n",
      "Iteration 108, loss = 0.56409974\n",
      "Iteration 109, loss = 0.56085406\n",
      "Iteration 110, loss = 0.55749638\n",
      "Iteration 111, loss = 0.55424913\n",
      "Iteration 112, loss = 0.55123407\n",
      "Iteration 113, loss = 0.54797878\n",
      "Iteration 114, loss = 0.54487546\n",
      "Iteration 115, loss = 0.54180418\n",
      "Iteration 116, loss = 0.53878284\n",
      "Iteration 117, loss = 0.53584311\n",
      "Iteration 118, loss = 0.53298185\n",
      "Iteration 119, loss = 0.53004528\n",
      "Iteration 120, loss = 0.52728285\n",
      "Iteration 121, loss = 0.52453134\n",
      "Iteration 122, loss = 0.52173209\n",
      "Iteration 123, loss = 0.51908707\n",
      "Iteration 124, loss = 0.51641079\n",
      "Iteration 125, loss = 0.51382004\n",
      "Iteration 126, loss = 0.51118689\n",
      "Iteration 127, loss = 0.50870117\n",
      "Iteration 128, loss = 0.50620091\n",
      "Iteration 129, loss = 0.50371572\n",
      "Iteration 130, loss = 0.50122554\n",
      "Iteration 131, loss = 0.49885684\n",
      "Iteration 132, loss = 0.49646338\n",
      "Iteration 133, loss = 0.49415919\n",
      "Iteration 134, loss = 0.49183131\n",
      "Iteration 135, loss = 0.48961412\n",
      "Iteration 136, loss = 0.48726885\n",
      "Iteration 137, loss = 0.48507924\n",
      "Iteration 138, loss = 0.48290776\n",
      "Iteration 139, loss = 0.48071494\n",
      "Iteration 140, loss = 0.47858632\n",
      "Iteration 141, loss = 0.47643473\n",
      "Iteration 142, loss = 0.47440203\n",
      "Iteration 143, loss = 0.47238655\n",
      "Iteration 144, loss = 0.47025734\n",
      "Iteration 145, loss = 0.46820117\n",
      "Iteration 146, loss = 0.46621792\n",
      "Iteration 147, loss = 0.46427364\n",
      "Iteration 148, loss = 0.46240983\n",
      "Iteration 149, loss = 0.46041890\n",
      "Iteration 150, loss = 0.45853379\n",
      "Iteration 151, loss = 0.45672359\n",
      "Iteration 152, loss = 0.45481637\n",
      "Iteration 153, loss = 0.45298174\n",
      "Iteration 154, loss = 0.45113162\n",
      "Iteration 155, loss = 0.44937223\n",
      "Iteration 156, loss = 0.44754281\n",
      "Iteration 157, loss = 0.44576757\n",
      "Iteration 158, loss = 0.44408779\n",
      "Iteration 159, loss = 0.44233017\n",
      "Iteration 160, loss = 0.44059875\n",
      "Iteration 161, loss = 0.43893002\n",
      "Iteration 162, loss = 0.43725716\n",
      "Iteration 163, loss = 0.43560100\n",
      "Iteration 164, loss = 0.43398486\n",
      "Iteration 165, loss = 0.43240281\n",
      "Iteration 166, loss = 0.43077937\n",
      "Iteration 167, loss = 0.42919315\n",
      "Iteration 168, loss = 0.42759909\n",
      "Iteration 169, loss = 0.42600356\n",
      "Iteration 170, loss = 0.42454105\n",
      "Iteration 171, loss = 0.42293673\n",
      "Iteration 172, loss = 0.42154821\n",
      "Iteration 173, loss = 0.41995827\n",
      "Iteration 174, loss = 0.41849578\n",
      "Iteration 175, loss = 0.41698307\n",
      "Iteration 176, loss = 0.41554048\n",
      "Iteration 177, loss = 0.41411481\n",
      "Iteration 178, loss = 0.41270896\n",
      "Iteration 179, loss = 0.41125475\n",
      "Iteration 180, loss = 0.40983378\n",
      "Iteration 181, loss = 0.40849713\n",
      "Iteration 182, loss = 0.40713655\n",
      "Iteration 183, loss = 0.40573465\n",
      "Iteration 184, loss = 0.40429690\n",
      "Iteration 185, loss = 0.40300657\n",
      "Iteration 186, loss = 0.40173328\n",
      "Iteration 187, loss = 0.40034445\n",
      "Iteration 188, loss = 0.39903387\n",
      "Iteration 189, loss = 0.39781982\n",
      "Iteration 190, loss = 0.39644874\n",
      "Iteration 191, loss = 0.39512588\n",
      "Iteration 192, loss = 0.39392237\n",
      "Iteration 193, loss = 0.39266252\n",
      "Iteration 194, loss = 0.39139331\n",
      "Iteration 195, loss = 0.39017540\n",
      "Iteration 196, loss = 0.38892717\n",
      "Iteration 197, loss = 0.38774901\n",
      "Iteration 198, loss = 0.38645854\n",
      "Iteration 199, loss = 0.38528046\n",
      "Iteration 200, loss = 0.38405588\n"
     ]
    },
    {
     "name": "stderr",
     "output_type": "stream",
     "text": [
      "C:\\Users\\User\\anaconda3\\envs\\MLenv\\lib\\site-packages\\sklearn\\neural_network\\_multilayer_perceptron.py:585: ConvergenceWarning: Stochastic Optimizer: Maximum iterations (200) reached and the optimization hasn't converged yet.\n",
      "  % self.max_iter, ConvergenceWarning)\n"
     ]
    }
   ],
   "source": [
    "multilayer_perceptron = MLPClassifier(hidden_layer_sizes=(100,),activation=\"relu\",solver=\"sgd\",alpha=0.001,random_state=RANDOM_STATE,verbose=True)\n",
    "# Fit the model to the training data\n",
    "start_time = time.time()\n",
    "multilayer_perceptron.fit(X_train_Normalization[:1000],Y_train[:1000])\n",
    "end_time = time.time()\n",
    "total_time_fit = end_time - start_time\n",
    "\n",
    "# Make predictions on the test data\n",
    "start_time = time.time()\n",
    "multilayer_perceptron_predictions = multilayer_perceptron.predict(X_test_Normalization)\n",
    "end_time = time.time()\n",
    "total_time_predict = end_time - start_time"
   ],
   "metadata": {
    "collapsed": false
   }
  },
  {
   "cell_type": "code",
   "execution_count": 122,
   "outputs": [
    {
     "name": "stdout",
     "output_type": "stream",
     "text": [
      "Χρόνος εκπαίδευσης: 2.062899112701416 seconds.\n",
      "Χρόνος για predictions: 0.0430912971496582 seconds.\n",
      "Accuracy on Train:  0.8433333333333334\n",
      "Accuracy on Test:  0.8454\n"
     ]
    }
   ],
   "source": [
    "print(f\"Χρόνος εκπαίδευσης: {total_time_fit} seconds.\")\n",
    "print(f\"Χρόνος για predictions: {total_time_predict} seconds.\")\n",
    "print('Accuracy on Train: ', accuracy_score(Y_train, multilayer_perceptron.predict(X_train_Normalization)))\n",
    "print('Accuracy on Test: ', accuracy_score(Y_test, multilayer_perceptron_predictions))"
   ],
   "metadata": {
    "collapsed": false
   }
  },
  {
   "cell_type": "markdown",
   "source": [
    "#### Παρατηρούμε ότι το RBF χρειάζεται 60 φορές περισσότερα δεδομένα από το MLP (στο MLP χρησιμοποιούμε το ίδια πλήθος νευρώνων στο κρυφό και στο output layer) για να φτάσει στο ίδιο επίπεδο απόδοσης."
   ],
   "metadata": {
    "collapsed": false
   }
  },
  {
   "cell_type": "markdown",
   "source": [
    "#### Παρακάτω, βλέπουμε δύο πιο καλές εκπαιδεύσεις που πλησιάζουν το 90% accuracy, το οποίο όμως είναι αρκετά πιο κάτω σε σχέση με τις επιδόσεις που πετυχαίνουν το MLP και το KNN.\n",
    "- Σε αυτό το σημείο να πούμε ότι κατά τη διάρκεια εκπαίδευσης του RBF δικτύου παρατηρήσαμε ότι είναι αρκετά δύσκολο να εκπαιδευτεί ένα RBF.\n",
    "- Για παράδειγμα, είναι δύσκολο να βρει κανείς το πλήθος των RBF νευρώνων, τα αντίστοιχα κέντρα και πλάτη τους που θα \"παίζουν\" καλά στο Data Set, καθώς μικρές αλλαγές σε οποιαδήποτε από αυτές τις υπέρ-παραμέτρους προκαλεί σημαντικές αλλαγές στη λειτουργία του δικτύου.\n",
    "- Παρόλο που η MNIST είναι ένα εύκολο Data Set παρατηρούμε ότι δεν μπορέσαμε να πετύχουμε πολύ υψηλό accuracy."
   ],
   "metadata": {
    "collapsed": false
   }
  },
  {
   "cell_type": "code",
   "execution_count": 123,
   "outputs": [
    {
     "name": "stdout",
     "output_type": "stream",
     "text": [
      "Χρόνος εκπαίδευσης: 421.82014894485474 seconds.\n",
      "Χρόνος για predictions: 73.24334239959717 seconds.\n",
      "Accuracy on Train:  0.88995\n",
      "Accuracy on Test:  0.8942\n"
     ]
    }
   ],
   "source": [
    "# Τυχαία επιλογή δειγμάτων από το Data Set ως centroids\n",
    "rbf_random_centroids = RBFNN2(X_train_Normalization, Y_train, k=1000)\n",
    "\n",
    "# Fit the model to the training data\n",
    "start_time = time.time()\n",
    "rbf_random_centroids.fit()\n",
    "end_time = time.time()\n",
    "total_time_fit = end_time - start_time\n",
    "\n",
    "# Make predictions on the test data\n",
    "start_time = time.time()\n",
    "rbf_random_centroids_predictions = rbf_random_centroids.predict(X_test_Normalization)\n",
    "end_time = time.time()\n",
    "total_time_predict = end_time - start_time\n",
    "print(f\"Χρόνος εκπαίδευσης: {total_time_fit} seconds.\")\n",
    "print(f\"Χρόνος για predictions: {total_time_predict} seconds.\")\n",
    "print('Accuracy on Train: ', accuracy_score(Y_train, rbf_random_centroids.predict(X_train_Normalization)))\n",
    "print('Accuracy on Test: ', accuracy_score(Y_test, rbf_random_centroids_predictions))"
   ],
   "metadata": {
    "collapsed": false
   }
  },
  {
   "cell_type": "code",
   "execution_count": 124,
   "outputs": [
    {
     "name": "stdout",
     "output_type": "stream",
     "text": [
      "Χρόνος εκπαίδευσης: 432.19144463539124 seconds.\n",
      "Χρόνος για predictions: 68.48296809196472 seconds.\n",
      "Accuracy on Train:  0.8747166666666667\n",
      "Accuracy on Test:  0.8732\n"
     ]
    }
   ],
   "source": [
    "# Επιλογή 100 training examples από κάθε κλάση ως centroids\n",
    "rbf_equally_chosen_instances = RBFNN3(X_train_Normalization, Y_train, k=100)\n",
    "\n",
    "# Fit the model to the training data\n",
    "start_time = time.time()\n",
    "rbf_equally_chosen_instances.fit()\n",
    "end_time = time.time()\n",
    "total_time_fit = end_time - start_time\n",
    "\n",
    "# Make predictions on the test data\n",
    "start_time = time.time()\n",
    "rbf_equally_chosen_instances_predictions = rbf_equally_chosen_instances.predict(X_test_Normalization)\n",
    "end_time = time.time()\n",
    "total_time_predict = end_time - start_time\n",
    "print(f\"Χρόνος εκπαίδευσης: {total_time_fit} seconds.\")\n",
    "print(f\"Χρόνος για predictions: {total_time_predict} seconds.\")\n",
    "print('Accuracy on Train: ', accuracy_score(Y_train, rbf_equally_chosen_instances.predict(X_train_Normalization)))\n",
    "print('Accuracy on Test: ', accuracy_score(Y_test, rbf_equally_chosen_instances_predictions))"
   ],
   "metadata": {
    "collapsed": false
   }
  },
  {
   "cell_type": "markdown",
   "source": [
    "# 5. Χαρακτηριστικά παραδείγματα ορθής και εσφαλμένης κατηγοριοποίησης"
   ],
   "metadata": {
    "collapsed": false
   }
  },
  {
   "cell_type": "markdown",
   "source": [
    "<h3>Παράδειγμα Εσφαλμένης κατηγοριοποίησης</h3>"
   ],
   "metadata": {
    "collapsed": false
   }
  },
  {
   "cell_type": "code",
   "execution_count": 102,
   "outputs": [],
   "source": [
    "#Κάνουμε ένα μικρό pre-process για να μπορέσουμε να εντοπίσουμε πιο εύκολα παραδείγματα εσφαλμένης κατηγοριοποίησης\n",
    "\n",
    "# Ενώνουμε τα X_test και Y_test\n",
    "Y_test_expanded = np.expand_dims(Y_test,axis=1)\n",
    "Test_set = np.hstack((X_test_Normalization,Y_test_expanded))\n",
    "# Μαζεύουμε όλα τα παραδείγματα της κάθε κλάσης μαζί (Δηλαδή στην αρχή του Data Set έχουμε όλα τα training examples με label ίσο με 0, στη συνέχεια όλα τα training examples με label ίσο με 1, κ.ο.κ)\n",
    "Sorted_test_set = Test_set[Test_set[:, 784].argsort()]\n",
    "# Κάνουμε split τα X_train και Y_train\n",
    "Y_test_sorted = Sorted_test_set[:, -1] # for last column\n",
    "X_test_sorted = Sorted_test_set[:, :-1] # for all but last column\n",
    "\n",
    "# predictions\n",
    "rbf_predictions_sorted = rbf.predict(X_test_sorted)"
   ],
   "metadata": {
    "collapsed": false
   }
  },
  {
   "cell_type": "code",
   "execution_count": 109,
   "outputs": [
    {
     "data": {
      "text/plain": "<Figure size 640x480 with 1 Axes>",
      "image/png": "[encoded data removed]"
     },
     "metadata": {},
     "output_type": "display_data"
    },
    {
     "name": "stdout",
     "output_type": "stream",
     "text": [
      "Prediction: 9\n",
      "Correct Label: 4.0\n"
     ]
    }
   ],
   "source": [
    "plt.imshow(np.reshape(X_test_sorted[4732] * 255,(28,28)), cmap='gray', vmin=0, vmax=255)\n",
    "plt.title(f\"Label: {Y_test_sorted[4732]}\")\n",
    "plt.show()\n",
    "print(f\"Prediction: {rbf_predictions_sorted[4732]}\")\n",
    "print(f\"Correct Label: {Y_test_sorted[4732]}\")"
   ],
   "metadata": {
    "collapsed": false
   }
  },
  {
   "cell_type": "markdown",
   "source": [
    "#### Στην εικόνα παρατηρούμε ότι έχουμε ένα 4 που εμείς ως άνθρωποι μπορούμε εύκολα να το κάνουμε σωστά classify, αλλά εδώ το μοντέλο μπερδεύεται πιθανώς λόγω της καμπυλότητας που υπάρχει στην εικόνα και το θεωρεί ως ένα 9."
   ],
   "metadata": {
    "collapsed": false
   }
  },
  {
   "cell_type": "markdown",
   "source": [
    "<h3>Παράδειγμα Ορθής κατηγοριοποίησης</h3>"
   ],
   "metadata": {
    "collapsed": false
   }
  },
  {
   "cell_type": "code",
   "execution_count": 111,
   "outputs": [
    {
     "data": {
      "text/plain": "<Figure size 640x480 with 1 Axes>",
      "image/png": "[encoded data removed]"
     },
     "metadata": {},
     "output_type": "display_data"
    },
    {
     "name": "stdout",
     "output_type": "stream",
     "text": [
      "Prediction: 5\n",
      "Correct Label: 5.0\n"
     ]
    }
   ],
   "source": [
    "plt.imshow(np.reshape(X_test_sorted[5395] * 255,(28,28)), cmap='gray', vmin=0, vmax=255)\n",
    "plt.title(f\"Label: {Y_test_sorted[5395]}\")\n",
    "plt.show()\n",
    "print(f\"Prediction: {rbf_predictions_sorted[5395]}\")\n",
    "print(f\"Correct Label: {Y_test_sorted[5395]}\")"
   ],
   "metadata": {
    "collapsed": false
   }
  },
  {
   "cell_type": "markdown",
   "source": [
    "#### Στην εικόνα, παρατηρούμε πως έχουμε ένα 5 το οποίο όμως είναι πολύ κοντά στο να κλείσει τον κύκλο του και να μοιάσει με 6. Παρόλα αυτά το μοντέλο δεν μπερδεύεται και κάνει σωστό classification."
   ],
   "metadata": {
    "collapsed": false
   }
  }
 ],
 "metadata": {
  "kernelspec": {
   "display_name": "Python 3",
   "language": "python",
   "name": "python3"
  },
  "language_info": {
   "codemirror_mode": {
    "name": "ipython",
    "version": 2
   },
   "file_extension": ".py",
   "mimetype": "text/x-python",
   "name": "python",
   "nbconvert_exporter": "python",
   "pygments_lexer": "ipython2",
   "version": "2.7.6"
  }
 },
 "nbformat": 4,
 "nbformat_minor": 0
}
